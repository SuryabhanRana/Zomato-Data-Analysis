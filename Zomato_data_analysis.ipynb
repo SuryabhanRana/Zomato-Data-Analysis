{
 "cells": [
  {
   "cell_type": "markdown",
   "id": "113ea4b6",
   "metadata": {},
   "source": [
    "# Zomato Exploratory Data Analysis ( Case Study)"
   ]
  },
  {
   "cell_type": "code",
   "execution_count": 1,
   "id": "1702ce12",
   "metadata": {},
   "outputs": [],
   "source": [
    "import pandas as pd\n",
    "import numpy as np\n",
    "import matplotlib.pyplot as plt\n",
    "import seaborn as sns"
   ]
  },
  {
   "cell_type": "markdown",
   "id": "9d01ee02",
   "metadata": {},
   "source": [
    "#### Columns description\n",
    "\n",
    "1. url contains the url of the restaurant in the zomato website\n",
    "\n",
    "2. address contains the address of the restaurant in Bengaluru\n",
    "\n",
    "3. name contains the name of the restaurant\n",
    "\n",
    "4. online_order whether online ordering is available in the restaurant or not\n",
    "\n",
    "5. book_table table book option available or not\n",
    "\n",
    "6. rate contains the overall rating of the restaurant out of 5\n",
    "\n",
    "7. votes contains total number of rating for the restaurant as of the above mentioned date\n",
    "\n",
    "8. phone contains the phone number of the restaurant\n",
    "\n",
    "9. location contains the neighborhood in which the restaurant is located\n",
    "\n",
    "10. rest_type restaurant type\n",
    "\n",
    "11. dish_liked dishes people liked in the restaurant\n",
    "\n",
    "12. cuisines food styles, separated by comma\n",
    "\n",
    "13. approx_cost(for two people) contains the approximate cost for meal for two people\n",
    "\n",
    "14. reviews_list list of tuples containing reviews for the restaurant, each tuple\n",
    "\n",
    "15. menu_item contains list of menus available in the restaurant\n",
    "\n",
    "16. listed_in(type) type of meal\n",
    "\n",
    "17. listed_in(city) contains the neighborhood in which the restaurant is listed"
   ]
  },
  {
   "cell_type": "code",
   "execution_count": 2,
   "id": "7d5392e1",
   "metadata": {},
   "outputs": [
    {
     "data": {
      "text/html": [
       "<div>\n",
       "<style scoped>\n",
       "    .dataframe tbody tr th:only-of-type {\n",
       "        vertical-align: middle;\n",
       "    }\n",
       "\n",
       "    .dataframe tbody tr th {\n",
       "        vertical-align: top;\n",
       "    }\n",
       "\n",
       "    .dataframe thead th {\n",
       "        text-align: right;\n",
       "    }\n",
       "</style>\n",
       "<table border=\"1\" class=\"dataframe\">\n",
       "  <thead>\n",
       "    <tr style=\"text-align: right;\">\n",
       "      <th></th>\n",
       "      <th>url</th>\n",
       "      <th>address</th>\n",
       "      <th>name</th>\n",
       "      <th>online_order</th>\n",
       "      <th>book_table</th>\n",
       "      <th>rate</th>\n",
       "      <th>votes</th>\n",
       "      <th>phone</th>\n",
       "      <th>location</th>\n",
       "      <th>rest_type</th>\n",
       "      <th>dish_liked</th>\n",
       "      <th>cuisines</th>\n",
       "      <th>approx_cost(for two people)</th>\n",
       "      <th>reviews_list</th>\n",
       "      <th>menu_item</th>\n",
       "      <th>listed_in(type)</th>\n",
       "      <th>listed_in(city)</th>\n",
       "    </tr>\n",
       "  </thead>\n",
       "  <tbody>\n",
       "    <tr>\n",
       "      <th>0</th>\n",
       "      <td>https://www.zomato.com/bangalore/jalsa-banasha...</td>\n",
       "      <td>942, 21st Main Road, 2nd Stage, Banashankari, ...</td>\n",
       "      <td>Jalsa</td>\n",
       "      <td>Yes</td>\n",
       "      <td>Yes</td>\n",
       "      <td>4.1/5</td>\n",
       "      <td>775</td>\n",
       "      <td>080 42297555\\r\\n+91 9743772233</td>\n",
       "      <td>Banashankari</td>\n",
       "      <td>Casual Dining</td>\n",
       "      <td>Pasta, Lunch Buffet, Masala Papad, Paneer Laja...</td>\n",
       "      <td>North Indian, Mughlai, Chinese</td>\n",
       "      <td>800</td>\n",
       "      <td>[('Rated 4.0', 'RATED\\n  A beautiful place to ...</td>\n",
       "      <td>[]</td>\n",
       "      <td>Buffet</td>\n",
       "      <td>Banashankari</td>\n",
       "    </tr>\n",
       "    <tr>\n",
       "      <th>1</th>\n",
       "      <td>https://www.zomato.com/bangalore/spice-elephan...</td>\n",
       "      <td>2nd Floor, 80 Feet Road, Near Big Bazaar, 6th ...</td>\n",
       "      <td>Spice Elephant</td>\n",
       "      <td>Yes</td>\n",
       "      <td>No</td>\n",
       "      <td>4.1/5</td>\n",
       "      <td>787</td>\n",
       "      <td>080 41714161</td>\n",
       "      <td>Banashankari</td>\n",
       "      <td>Casual Dining</td>\n",
       "      <td>Momos, Lunch Buffet, Chocolate Nirvana, Thai G...</td>\n",
       "      <td>Chinese, North Indian, Thai</td>\n",
       "      <td>800</td>\n",
       "      <td>[('Rated 4.0', 'RATED\\n  Had been here for din...</td>\n",
       "      <td>[]</td>\n",
       "      <td>Buffet</td>\n",
       "      <td>Banashankari</td>\n",
       "    </tr>\n",
       "    <tr>\n",
       "      <th>2</th>\n",
       "      <td>https://www.zomato.com/SanchurroBangalore?cont...</td>\n",
       "      <td>1112, Next to KIMS Medical College, 17th Cross...</td>\n",
       "      <td>San Churro Cafe</td>\n",
       "      <td>Yes</td>\n",
       "      <td>No</td>\n",
       "      <td>3.8/5</td>\n",
       "      <td>918</td>\n",
       "      <td>+91 9663487993</td>\n",
       "      <td>Banashankari</td>\n",
       "      <td>Cafe, Casual Dining</td>\n",
       "      <td>Churros, Cannelloni, Minestrone Soup, Hot Choc...</td>\n",
       "      <td>Cafe, Mexican, Italian</td>\n",
       "      <td>800</td>\n",
       "      <td>[('Rated 3.0', \"RATED\\n  Ambience is not that ...</td>\n",
       "      <td>[]</td>\n",
       "      <td>Buffet</td>\n",
       "      <td>Banashankari</td>\n",
       "    </tr>\n",
       "    <tr>\n",
       "      <th>3</th>\n",
       "      <td>https://www.zomato.com/bangalore/addhuri-udupi...</td>\n",
       "      <td>1st Floor, Annakuteera, 3rd Stage, Banashankar...</td>\n",
       "      <td>Addhuri Udupi Bhojana</td>\n",
       "      <td>No</td>\n",
       "      <td>No</td>\n",
       "      <td>3.7/5</td>\n",
       "      <td>88</td>\n",
       "      <td>+91 9620009302</td>\n",
       "      <td>Banashankari</td>\n",
       "      <td>Quick Bites</td>\n",
       "      <td>Masala Dosa</td>\n",
       "      <td>South Indian, North Indian</td>\n",
       "      <td>300</td>\n",
       "      <td>[('Rated 4.0', \"RATED\\n  Great food and proper...</td>\n",
       "      <td>[]</td>\n",
       "      <td>Buffet</td>\n",
       "      <td>Banashankari</td>\n",
       "    </tr>\n",
       "    <tr>\n",
       "      <th>4</th>\n",
       "      <td>https://www.zomato.com/bangalore/grand-village...</td>\n",
       "      <td>10, 3rd Floor, Lakshmi Associates, Gandhi Baza...</td>\n",
       "      <td>Grand Village</td>\n",
       "      <td>No</td>\n",
       "      <td>No</td>\n",
       "      <td>3.8/5</td>\n",
       "      <td>166</td>\n",
       "      <td>+91 8026612447\\r\\n+91 9901210005</td>\n",
       "      <td>Basavanagudi</td>\n",
       "      <td>Casual Dining</td>\n",
       "      <td>Panipuri, Gol Gappe</td>\n",
       "      <td>North Indian, Rajasthani</td>\n",
       "      <td>600</td>\n",
       "      <td>[('Rated 4.0', 'RATED\\n  Very good restaurant ...</td>\n",
       "      <td>[]</td>\n",
       "      <td>Buffet</td>\n",
       "      <td>Banashankari</td>\n",
       "    </tr>\n",
       "  </tbody>\n",
       "</table>\n",
       "</div>"
      ],
      "text/plain": [
       "                                                 url  \\\n",
       "0  https://www.zomato.com/bangalore/jalsa-banasha...   \n",
       "1  https://www.zomato.com/bangalore/spice-elephan...   \n",
       "2  https://www.zomato.com/SanchurroBangalore?cont...   \n",
       "3  https://www.zomato.com/bangalore/addhuri-udupi...   \n",
       "4  https://www.zomato.com/bangalore/grand-village...   \n",
       "\n",
       "                                             address                   name  \\\n",
       "0  942, 21st Main Road, 2nd Stage, Banashankari, ...                  Jalsa   \n",
       "1  2nd Floor, 80 Feet Road, Near Big Bazaar, 6th ...         Spice Elephant   \n",
       "2  1112, Next to KIMS Medical College, 17th Cross...        San Churro Cafe   \n",
       "3  1st Floor, Annakuteera, 3rd Stage, Banashankar...  Addhuri Udupi Bhojana   \n",
       "4  10, 3rd Floor, Lakshmi Associates, Gandhi Baza...          Grand Village   \n",
       "\n",
       "  online_order book_table   rate  votes                             phone  \\\n",
       "0          Yes        Yes  4.1/5    775    080 42297555\\r\\n+91 9743772233   \n",
       "1          Yes         No  4.1/5    787                      080 41714161   \n",
       "2          Yes         No  3.8/5    918                    +91 9663487993   \n",
       "3           No         No  3.7/5     88                    +91 9620009302   \n",
       "4           No         No  3.8/5    166  +91 8026612447\\r\\n+91 9901210005   \n",
       "\n",
       "       location            rest_type  \\\n",
       "0  Banashankari        Casual Dining   \n",
       "1  Banashankari        Casual Dining   \n",
       "2  Banashankari  Cafe, Casual Dining   \n",
       "3  Banashankari          Quick Bites   \n",
       "4  Basavanagudi        Casual Dining   \n",
       "\n",
       "                                          dish_liked  \\\n",
       "0  Pasta, Lunch Buffet, Masala Papad, Paneer Laja...   \n",
       "1  Momos, Lunch Buffet, Chocolate Nirvana, Thai G...   \n",
       "2  Churros, Cannelloni, Minestrone Soup, Hot Choc...   \n",
       "3                                        Masala Dosa   \n",
       "4                                Panipuri, Gol Gappe   \n",
       "\n",
       "                         cuisines approx_cost(for two people)  \\\n",
       "0  North Indian, Mughlai, Chinese                         800   \n",
       "1     Chinese, North Indian, Thai                         800   \n",
       "2          Cafe, Mexican, Italian                         800   \n",
       "3      South Indian, North Indian                         300   \n",
       "4        North Indian, Rajasthani                         600   \n",
       "\n",
       "                                        reviews_list menu_item  \\\n",
       "0  [('Rated 4.0', 'RATED\\n  A beautiful place to ...        []   \n",
       "1  [('Rated 4.0', 'RATED\\n  Had been here for din...        []   \n",
       "2  [('Rated 3.0', \"RATED\\n  Ambience is not that ...        []   \n",
       "3  [('Rated 4.0', \"RATED\\n  Great food and proper...        []   \n",
       "4  [('Rated 4.0', 'RATED\\n  Very good restaurant ...        []   \n",
       "\n",
       "  listed_in(type) listed_in(city)  \n",
       "0          Buffet    Banashankari  \n",
       "1          Buffet    Banashankari  \n",
       "2          Buffet    Banashankari  \n",
       "3          Buffet    Banashankari  \n",
       "4          Buffet    Banashankari  "
      ]
     },
     "execution_count": 2,
     "metadata": {},
     "output_type": "execute_result"
    }
   ],
   "source": [
    "###read dataset\n",
    "df = pd.read_csv('E:\\Zomato-analysis/zomato.csv')\n",
    "df.head()"
   ]
  },
  {
   "cell_type": "code",
   "execution_count": 3,
   "id": "49fbb597",
   "metadata": {},
   "outputs": [
    {
     "data": {
      "text/plain": [
       "Index(['url', 'address', 'name', 'online_order', 'book_table', 'rate', 'votes',\n",
       "       'phone', 'location', 'rest_type', 'dish_liked', 'cuisines',\n",
       "       'approx_cost(for two people)', 'reviews_list', 'menu_item',\n",
       "       'listed_in(type)', 'listed_in(city)'],\n",
       "      dtype='object')"
      ]
     },
     "execution_count": 3,
     "metadata": {},
     "output_type": "execute_result"
    }
   ],
   "source": [
    "df.columns"
   ]
  },
  {
   "cell_type": "code",
   "execution_count": 4,
   "id": "3a384475",
   "metadata": {},
   "outputs": [
    {
     "data": {
      "text/plain": [
       "url                            object\n",
       "address                        object\n",
       "name                           object\n",
       "online_order                   object\n",
       "book_table                     object\n",
       "rate                           object\n",
       "votes                           int64\n",
       "phone                          object\n",
       "location                       object\n",
       "rest_type                      object\n",
       "dish_liked                     object\n",
       "cuisines                       object\n",
       "approx_cost(for two people)    object\n",
       "reviews_list                   object\n",
       "menu_item                      object\n",
       "listed_in(type)                object\n",
       "listed_in(city)                object\n",
       "dtype: object"
      ]
     },
     "execution_count": 4,
     "metadata": {},
     "output_type": "execute_result"
    }
   ],
   "source": [
    "df.dtypes"
   ]
  },
  {
   "cell_type": "code",
   "execution_count": 5,
   "id": "9747c6b0",
   "metadata": {},
   "outputs": [
    {
     "data": {
      "text/plain": [
       "(51717, 17)"
      ]
     },
     "execution_count": 5,
     "metadata": {},
     "output_type": "execute_result"
    }
   ],
   "source": [
    "df.shape"
   ]
  },
  {
   "cell_type": "code",
   "execution_count": 6,
   "id": "ccac1128",
   "metadata": {},
   "outputs": [
    {
     "data": {
      "text/plain": [
       "url                                0\n",
       "address                            0\n",
       "name                               0\n",
       "online_order                       0\n",
       "book_table                         0\n",
       "rate                            7775\n",
       "votes                              0\n",
       "phone                           1208\n",
       "location                          21\n",
       "rest_type                        227\n",
       "dish_liked                     28078\n",
       "cuisines                          45\n",
       "approx_cost(for two people)      346\n",
       "reviews_list                       0\n",
       "menu_item                          0\n",
       "listed_in(type)                    0\n",
       "listed_in(city)                    0\n",
       "dtype: int64"
      ]
     },
     "execution_count": 6,
     "metadata": {},
     "output_type": "execute_result"
    }
   ],
   "source": [
    "df.isna().sum()"
   ]
  },
  {
   "cell_type": "code",
   "execution_count": 7,
   "id": "5cf3ac98",
   "metadata": {},
   "outputs": [
    {
     "data": {
      "text/plain": [
       "['rate',\n",
       " 'phone',\n",
       " 'location',\n",
       " 'rest_type',\n",
       " 'dish_liked',\n",
       " 'cuisines',\n",
       " 'approx_cost(for two people)']"
      ]
     },
     "execution_count": 7,
     "metadata": {},
     "output_type": "execute_result"
    }
   ],
   "source": [
    "feature_na = [feature for feature in df.columns if df[feature].isnull().sum()>0]\n",
    "feature_na"
   ]
  },
  {
   "cell_type": "code",
   "execution_count": 8,
   "id": "9021b0c1",
   "metadata": {},
   "outputs": [
    {
     "name": "stdout",
     "output_type": "stream",
     "text": [
      "rate has 15.0337 % missing values\n",
      "phone has 2.3358 % missing values\n",
      "location has 0.0406 % missing values\n",
      "rest_type has 0.4389 % missing values\n",
      "dish_liked has 54.2916 % missing values\n",
      "cuisines has 0.087 % missing values\n",
      "approx_cost(for two people) has 0.669 % missing values\n"
     ]
    }
   ],
   "source": [
    "#% of missing values\n",
    "for feature in feature_na:\n",
    "    print('{} has {} % missing values'.format(feature,np.round(df[feature].isnull().sum()/len(df)*100,4)))"
   ]
  },
  {
   "cell_type": "code",
   "execution_count": 9,
   "id": "c1779fca",
   "metadata": {},
   "outputs": [
    {
     "data": {
      "text/plain": [
       "array(['4.1/5', '3.8/5', '3.7/5', '3.6/5', '4.6/5', '4.0/5', '4.2/5',\n",
       "       '3.9/5', '3.1/5', '3.0/5', '3.2/5', '3.3/5', '2.8/5', '4.4/5',\n",
       "       '4.3/5', 'NEW', '2.9/5', '3.5/5', nan, '2.6/5', '3.8 /5', '3.4/5',\n",
       "       '4.5/5', '2.5/5', '2.7/5', '4.7/5', '2.4/5', '2.2/5', '2.3/5',\n",
       "       '3.4 /5', '-', '3.6 /5', '4.8/5', '3.9 /5', '4.2 /5', '4.0 /5',\n",
       "       '4.1 /5', '3.7 /5', '3.1 /5', '2.9 /5', '3.3 /5', '2.8 /5',\n",
       "       '3.5 /5', '2.7 /5', '2.5 /5', '3.2 /5', '2.6 /5', '4.5 /5',\n",
       "       '4.3 /5', '4.4 /5', '4.9/5', '2.1/5', '2.0/5', '1.8/5', '4.6 /5',\n",
       "       '4.9 /5', '3.0 /5', '4.8 /5', '2.3 /5', '4.7 /5', '2.4 /5',\n",
       "       '2.1 /5', '2.2 /5', '2.0 /5', '1.8 /5'], dtype=object)"
      ]
     },
     "execution_count": 9,
     "metadata": {},
     "output_type": "execute_result"
    }
   ],
   "source": [
    "df['rate'].unique()"
   ]
  },
  {
   "cell_type": "code",
   "execution_count": 10,
   "id": "b3dbccb3",
   "metadata": {},
   "outputs": [],
   "source": [
    "df.dropna(axis='index',subset=['rate'],inplace=True)"
   ]
  },
  {
   "cell_type": "code",
   "execution_count": 11,
   "id": "83f79449",
   "metadata": {},
   "outputs": [
    {
     "data": {
      "text/plain": [
       "(43942, 17)"
      ]
     },
     "execution_count": 11,
     "metadata": {},
     "output_type": "execute_result"
    }
   ],
   "source": [
    "df.shape"
   ]
  },
  {
   "cell_type": "code",
   "execution_count": 12,
   "id": "1440e862",
   "metadata": {},
   "outputs": [],
   "source": [
    "def split(x):\n",
    "    return x.split('/')[0]"
   ]
  },
  {
   "cell_type": "code",
   "execution_count": 13,
   "id": "a47db7b1",
   "metadata": {},
   "outputs": [],
   "source": [
    "df['rate'] = df['rate'].apply(split)"
   ]
  },
  {
   "cell_type": "code",
   "execution_count": 14,
   "id": "d4a65acf",
   "metadata": {},
   "outputs": [
    {
     "data": {
      "text/html": [
       "<div>\n",
       "<style scoped>\n",
       "    .dataframe tbody tr th:only-of-type {\n",
       "        vertical-align: middle;\n",
       "    }\n",
       "\n",
       "    .dataframe tbody tr th {\n",
       "        vertical-align: top;\n",
       "    }\n",
       "\n",
       "    .dataframe thead th {\n",
       "        text-align: right;\n",
       "    }\n",
       "</style>\n",
       "<table border=\"1\" class=\"dataframe\">\n",
       "  <thead>\n",
       "    <tr style=\"text-align: right;\">\n",
       "      <th></th>\n",
       "      <th>url</th>\n",
       "      <th>address</th>\n",
       "      <th>name</th>\n",
       "      <th>online_order</th>\n",
       "      <th>book_table</th>\n",
       "      <th>rate</th>\n",
       "      <th>votes</th>\n",
       "      <th>phone</th>\n",
       "      <th>location</th>\n",
       "      <th>rest_type</th>\n",
       "      <th>dish_liked</th>\n",
       "      <th>cuisines</th>\n",
       "      <th>approx_cost(for two people)</th>\n",
       "      <th>reviews_list</th>\n",
       "      <th>menu_item</th>\n",
       "      <th>listed_in(type)</th>\n",
       "      <th>listed_in(city)</th>\n",
       "    </tr>\n",
       "  </thead>\n",
       "  <tbody>\n",
       "    <tr>\n",
       "      <th>0</th>\n",
       "      <td>https://www.zomato.com/bangalore/jalsa-banasha...</td>\n",
       "      <td>942, 21st Main Road, 2nd Stage, Banashankari, ...</td>\n",
       "      <td>Jalsa</td>\n",
       "      <td>Yes</td>\n",
       "      <td>Yes</td>\n",
       "      <td>4.1</td>\n",
       "      <td>775</td>\n",
       "      <td>080 42297555\\r\\n+91 9743772233</td>\n",
       "      <td>Banashankari</td>\n",
       "      <td>Casual Dining</td>\n",
       "      <td>Pasta, Lunch Buffet, Masala Papad, Paneer Laja...</td>\n",
       "      <td>North Indian, Mughlai, Chinese</td>\n",
       "      <td>800</td>\n",
       "      <td>[('Rated 4.0', 'RATED\\n  A beautiful place to ...</td>\n",
       "      <td>[]</td>\n",
       "      <td>Buffet</td>\n",
       "      <td>Banashankari</td>\n",
       "    </tr>\n",
       "    <tr>\n",
       "      <th>1</th>\n",
       "      <td>https://www.zomato.com/bangalore/spice-elephan...</td>\n",
       "      <td>2nd Floor, 80 Feet Road, Near Big Bazaar, 6th ...</td>\n",
       "      <td>Spice Elephant</td>\n",
       "      <td>Yes</td>\n",
       "      <td>No</td>\n",
       "      <td>4.1</td>\n",
       "      <td>787</td>\n",
       "      <td>080 41714161</td>\n",
       "      <td>Banashankari</td>\n",
       "      <td>Casual Dining</td>\n",
       "      <td>Momos, Lunch Buffet, Chocolate Nirvana, Thai G...</td>\n",
       "      <td>Chinese, North Indian, Thai</td>\n",
       "      <td>800</td>\n",
       "      <td>[('Rated 4.0', 'RATED\\n  Had been here for din...</td>\n",
       "      <td>[]</td>\n",
       "      <td>Buffet</td>\n",
       "      <td>Banashankari</td>\n",
       "    </tr>\n",
       "    <tr>\n",
       "      <th>2</th>\n",
       "      <td>https://www.zomato.com/SanchurroBangalore?cont...</td>\n",
       "      <td>1112, Next to KIMS Medical College, 17th Cross...</td>\n",
       "      <td>San Churro Cafe</td>\n",
       "      <td>Yes</td>\n",
       "      <td>No</td>\n",
       "      <td>3.8</td>\n",
       "      <td>918</td>\n",
       "      <td>+91 9663487993</td>\n",
       "      <td>Banashankari</td>\n",
       "      <td>Cafe, Casual Dining</td>\n",
       "      <td>Churros, Cannelloni, Minestrone Soup, Hot Choc...</td>\n",
       "      <td>Cafe, Mexican, Italian</td>\n",
       "      <td>800</td>\n",
       "      <td>[('Rated 3.0', \"RATED\\n  Ambience is not that ...</td>\n",
       "      <td>[]</td>\n",
       "      <td>Buffet</td>\n",
       "      <td>Banashankari</td>\n",
       "    </tr>\n",
       "    <tr>\n",
       "      <th>3</th>\n",
       "      <td>https://www.zomato.com/bangalore/addhuri-udupi...</td>\n",
       "      <td>1st Floor, Annakuteera, 3rd Stage, Banashankar...</td>\n",
       "      <td>Addhuri Udupi Bhojana</td>\n",
       "      <td>No</td>\n",
       "      <td>No</td>\n",
       "      <td>3.7</td>\n",
       "      <td>88</td>\n",
       "      <td>+91 9620009302</td>\n",
       "      <td>Banashankari</td>\n",
       "      <td>Quick Bites</td>\n",
       "      <td>Masala Dosa</td>\n",
       "      <td>South Indian, North Indian</td>\n",
       "      <td>300</td>\n",
       "      <td>[('Rated 4.0', \"RATED\\n  Great food and proper...</td>\n",
       "      <td>[]</td>\n",
       "      <td>Buffet</td>\n",
       "      <td>Banashankari</td>\n",
       "    </tr>\n",
       "    <tr>\n",
       "      <th>4</th>\n",
       "      <td>https://www.zomato.com/bangalore/grand-village...</td>\n",
       "      <td>10, 3rd Floor, Lakshmi Associates, Gandhi Baza...</td>\n",
       "      <td>Grand Village</td>\n",
       "      <td>No</td>\n",
       "      <td>No</td>\n",
       "      <td>3.8</td>\n",
       "      <td>166</td>\n",
       "      <td>+91 8026612447\\r\\n+91 9901210005</td>\n",
       "      <td>Basavanagudi</td>\n",
       "      <td>Casual Dining</td>\n",
       "      <td>Panipuri, Gol Gappe</td>\n",
       "      <td>North Indian, Rajasthani</td>\n",
       "      <td>600</td>\n",
       "      <td>[('Rated 4.0', 'RATED\\n  Very good restaurant ...</td>\n",
       "      <td>[]</td>\n",
       "      <td>Buffet</td>\n",
       "      <td>Banashankari</td>\n",
       "    </tr>\n",
       "  </tbody>\n",
       "</table>\n",
       "</div>"
      ],
      "text/plain": [
       "                                                 url  \\\n",
       "0  https://www.zomato.com/bangalore/jalsa-banasha...   \n",
       "1  https://www.zomato.com/bangalore/spice-elephan...   \n",
       "2  https://www.zomato.com/SanchurroBangalore?cont...   \n",
       "3  https://www.zomato.com/bangalore/addhuri-udupi...   \n",
       "4  https://www.zomato.com/bangalore/grand-village...   \n",
       "\n",
       "                                             address                   name  \\\n",
       "0  942, 21st Main Road, 2nd Stage, Banashankari, ...                  Jalsa   \n",
       "1  2nd Floor, 80 Feet Road, Near Big Bazaar, 6th ...         Spice Elephant   \n",
       "2  1112, Next to KIMS Medical College, 17th Cross...        San Churro Cafe   \n",
       "3  1st Floor, Annakuteera, 3rd Stage, Banashankar...  Addhuri Udupi Bhojana   \n",
       "4  10, 3rd Floor, Lakshmi Associates, Gandhi Baza...          Grand Village   \n",
       "\n",
       "  online_order book_table rate  votes                             phone  \\\n",
       "0          Yes        Yes  4.1    775    080 42297555\\r\\n+91 9743772233   \n",
       "1          Yes         No  4.1    787                      080 41714161   \n",
       "2          Yes         No  3.8    918                    +91 9663487993   \n",
       "3           No         No  3.7     88                    +91 9620009302   \n",
       "4           No         No  3.8    166  +91 8026612447\\r\\n+91 9901210005   \n",
       "\n",
       "       location            rest_type  \\\n",
       "0  Banashankari        Casual Dining   \n",
       "1  Banashankari        Casual Dining   \n",
       "2  Banashankari  Cafe, Casual Dining   \n",
       "3  Banashankari          Quick Bites   \n",
       "4  Basavanagudi        Casual Dining   \n",
       "\n",
       "                                          dish_liked  \\\n",
       "0  Pasta, Lunch Buffet, Masala Papad, Paneer Laja...   \n",
       "1  Momos, Lunch Buffet, Chocolate Nirvana, Thai G...   \n",
       "2  Churros, Cannelloni, Minestrone Soup, Hot Choc...   \n",
       "3                                        Masala Dosa   \n",
       "4                                Panipuri, Gol Gappe   \n",
       "\n",
       "                         cuisines approx_cost(for two people)  \\\n",
       "0  North Indian, Mughlai, Chinese                         800   \n",
       "1     Chinese, North Indian, Thai                         800   \n",
       "2          Cafe, Mexican, Italian                         800   \n",
       "3      South Indian, North Indian                         300   \n",
       "4        North Indian, Rajasthani                         600   \n",
       "\n",
       "                                        reviews_list menu_item  \\\n",
       "0  [('Rated 4.0', 'RATED\\n  A beautiful place to ...        []   \n",
       "1  [('Rated 4.0', 'RATED\\n  Had been here for din...        []   \n",
       "2  [('Rated 3.0', \"RATED\\n  Ambience is not that ...        []   \n",
       "3  [('Rated 4.0', \"RATED\\n  Great food and proper...        []   \n",
       "4  [('Rated 4.0', 'RATED\\n  Very good restaurant ...        []   \n",
       "\n",
       "  listed_in(type) listed_in(city)  \n",
       "0          Buffet    Banashankari  \n",
       "1          Buffet    Banashankari  \n",
       "2          Buffet    Banashankari  \n",
       "3          Buffet    Banashankari  \n",
       "4          Buffet    Banashankari  "
      ]
     },
     "execution_count": 14,
     "metadata": {},
     "output_type": "execute_result"
    }
   ],
   "source": [
    "df.head()"
   ]
  },
  {
   "cell_type": "code",
   "execution_count": 15,
   "id": "fb8ddd94",
   "metadata": {},
   "outputs": [
    {
     "data": {
      "text/plain": [
       "array(['4.1', '3.8', '3.7', '3.6', '4.6', '4.0', '4.2', '3.9', '3.1',\n",
       "       '3.0', '3.2', '3.3', '2.8', '4.4', '4.3', 'NEW', '2.9', '3.5',\n",
       "       '2.6', '3.8 ', '3.4', '4.5', '2.5', '2.7', '4.7', '2.4', '2.2',\n",
       "       '2.3', '3.4 ', '-', '3.6 ', '4.8', '3.9 ', '4.2 ', '4.0 ', '4.1 ',\n",
       "       '3.7 ', '3.1 ', '2.9 ', '3.3 ', '2.8 ', '3.5 ', '2.7 ', '2.5 ',\n",
       "       '3.2 ', '2.6 ', '4.5 ', '4.3 ', '4.4 ', '4.9', '2.1', '2.0', '1.8',\n",
       "       '4.6 ', '4.9 ', '3.0 ', '4.8 ', '2.3 ', '4.7 ', '2.4 ', '2.1 ',\n",
       "       '2.2 ', '2.0 ', '1.8 '], dtype=object)"
      ]
     },
     "execution_count": 15,
     "metadata": {},
     "output_type": "execute_result"
    }
   ],
   "source": [
    "df['rate'].unique()"
   ]
  },
  {
   "cell_type": "code",
   "execution_count": 16,
   "id": "2f9bacad",
   "metadata": {},
   "outputs": [],
   "source": [
    "df.replace('NEW',0,inplace=True)"
   ]
  },
  {
   "cell_type": "code",
   "execution_count": 17,
   "id": "213dcb87",
   "metadata": {},
   "outputs": [],
   "source": [
    "df.replace('-',0,inplace=True)"
   ]
  },
  {
   "cell_type": "code",
   "execution_count": 18,
   "id": "5d045dd9",
   "metadata": {},
   "outputs": [
    {
     "data": {
      "text/plain": [
       "dtype('O')"
      ]
     },
     "execution_count": 18,
     "metadata": {},
     "output_type": "execute_result"
    }
   ],
   "source": [
    "df['rate'].dtypes"
   ]
  },
  {
   "cell_type": "code",
   "execution_count": 19,
   "id": "5fc217e5",
   "metadata": {},
   "outputs": [],
   "source": [
    "df['rate']=df['rate'].astype(float)"
   ]
  },
  {
   "cell_type": "code",
   "execution_count": 20,
   "id": "8306eceb",
   "metadata": {},
   "outputs": [
    {
     "data": {
      "text/html": [
       "<div>\n",
       "<style scoped>\n",
       "    .dataframe tbody tr th:only-of-type {\n",
       "        vertical-align: middle;\n",
       "    }\n",
       "\n",
       "    .dataframe tbody tr th {\n",
       "        vertical-align: top;\n",
       "    }\n",
       "\n",
       "    .dataframe thead th {\n",
       "        text-align: right;\n",
       "    }\n",
       "</style>\n",
       "<table border=\"1\" class=\"dataframe\">\n",
       "  <thead>\n",
       "    <tr style=\"text-align: right;\">\n",
       "      <th></th>\n",
       "      <th>url</th>\n",
       "      <th>address</th>\n",
       "      <th>name</th>\n",
       "      <th>online_order</th>\n",
       "      <th>book_table</th>\n",
       "      <th>rate</th>\n",
       "      <th>votes</th>\n",
       "      <th>phone</th>\n",
       "      <th>location</th>\n",
       "      <th>rest_type</th>\n",
       "      <th>dish_liked</th>\n",
       "      <th>cuisines</th>\n",
       "      <th>approx_cost(for two people)</th>\n",
       "      <th>reviews_list</th>\n",
       "      <th>menu_item</th>\n",
       "      <th>listed_in(type)</th>\n",
       "      <th>listed_in(city)</th>\n",
       "    </tr>\n",
       "  </thead>\n",
       "  <tbody>\n",
       "    <tr>\n",
       "      <th>0</th>\n",
       "      <td>https://www.zomato.com/bangalore/jalsa-banasha...</td>\n",
       "      <td>942, 21st Main Road, 2nd Stage, Banashankari, ...</td>\n",
       "      <td>Jalsa</td>\n",
       "      <td>Yes</td>\n",
       "      <td>Yes</td>\n",
       "      <td>4.1</td>\n",
       "      <td>775</td>\n",
       "      <td>080 42297555\\r\\n+91 9743772233</td>\n",
       "      <td>Banashankari</td>\n",
       "      <td>Casual Dining</td>\n",
       "      <td>Pasta, Lunch Buffet, Masala Papad, Paneer Laja...</td>\n",
       "      <td>North Indian, Mughlai, Chinese</td>\n",
       "      <td>800</td>\n",
       "      <td>[('Rated 4.0', 'RATED\\n  A beautiful place to ...</td>\n",
       "      <td>[]</td>\n",
       "      <td>Buffet</td>\n",
       "      <td>Banashankari</td>\n",
       "    </tr>\n",
       "    <tr>\n",
       "      <th>1</th>\n",
       "      <td>https://www.zomato.com/bangalore/spice-elephan...</td>\n",
       "      <td>2nd Floor, 80 Feet Road, Near Big Bazaar, 6th ...</td>\n",
       "      <td>Spice Elephant</td>\n",
       "      <td>Yes</td>\n",
       "      <td>No</td>\n",
       "      <td>4.1</td>\n",
       "      <td>787</td>\n",
       "      <td>080 41714161</td>\n",
       "      <td>Banashankari</td>\n",
       "      <td>Casual Dining</td>\n",
       "      <td>Momos, Lunch Buffet, Chocolate Nirvana, Thai G...</td>\n",
       "      <td>Chinese, North Indian, Thai</td>\n",
       "      <td>800</td>\n",
       "      <td>[('Rated 4.0', 'RATED\\n  Had been here for din...</td>\n",
       "      <td>[]</td>\n",
       "      <td>Buffet</td>\n",
       "      <td>Banashankari</td>\n",
       "    </tr>\n",
       "    <tr>\n",
       "      <th>2</th>\n",
       "      <td>https://www.zomato.com/SanchurroBangalore?cont...</td>\n",
       "      <td>1112, Next to KIMS Medical College, 17th Cross...</td>\n",
       "      <td>San Churro Cafe</td>\n",
       "      <td>Yes</td>\n",
       "      <td>No</td>\n",
       "      <td>3.8</td>\n",
       "      <td>918</td>\n",
       "      <td>+91 9663487993</td>\n",
       "      <td>Banashankari</td>\n",
       "      <td>Cafe, Casual Dining</td>\n",
       "      <td>Churros, Cannelloni, Minestrone Soup, Hot Choc...</td>\n",
       "      <td>Cafe, Mexican, Italian</td>\n",
       "      <td>800</td>\n",
       "      <td>[('Rated 3.0', \"RATED\\n  Ambience is not that ...</td>\n",
       "      <td>[]</td>\n",
       "      <td>Buffet</td>\n",
       "      <td>Banashankari</td>\n",
       "    </tr>\n",
       "    <tr>\n",
       "      <th>3</th>\n",
       "      <td>https://www.zomato.com/bangalore/addhuri-udupi...</td>\n",
       "      <td>1st Floor, Annakuteera, 3rd Stage, Banashankar...</td>\n",
       "      <td>Addhuri Udupi Bhojana</td>\n",
       "      <td>No</td>\n",
       "      <td>No</td>\n",
       "      <td>3.7</td>\n",
       "      <td>88</td>\n",
       "      <td>+91 9620009302</td>\n",
       "      <td>Banashankari</td>\n",
       "      <td>Quick Bites</td>\n",
       "      <td>Masala Dosa</td>\n",
       "      <td>South Indian, North Indian</td>\n",
       "      <td>300</td>\n",
       "      <td>[('Rated 4.0', \"RATED\\n  Great food and proper...</td>\n",
       "      <td>[]</td>\n",
       "      <td>Buffet</td>\n",
       "      <td>Banashankari</td>\n",
       "    </tr>\n",
       "    <tr>\n",
       "      <th>4</th>\n",
       "      <td>https://www.zomato.com/bangalore/grand-village...</td>\n",
       "      <td>10, 3rd Floor, Lakshmi Associates, Gandhi Baza...</td>\n",
       "      <td>Grand Village</td>\n",
       "      <td>No</td>\n",
       "      <td>No</td>\n",
       "      <td>3.8</td>\n",
       "      <td>166</td>\n",
       "      <td>+91 8026612447\\r\\n+91 9901210005</td>\n",
       "      <td>Basavanagudi</td>\n",
       "      <td>Casual Dining</td>\n",
       "      <td>Panipuri, Gol Gappe</td>\n",
       "      <td>North Indian, Rajasthani</td>\n",
       "      <td>600</td>\n",
       "      <td>[('Rated 4.0', 'RATED\\n  Very good restaurant ...</td>\n",
       "      <td>[]</td>\n",
       "      <td>Buffet</td>\n",
       "      <td>Banashankari</td>\n",
       "    </tr>\n",
       "  </tbody>\n",
       "</table>\n",
       "</div>"
      ],
      "text/plain": [
       "                                                 url  \\\n",
       "0  https://www.zomato.com/bangalore/jalsa-banasha...   \n",
       "1  https://www.zomato.com/bangalore/spice-elephan...   \n",
       "2  https://www.zomato.com/SanchurroBangalore?cont...   \n",
       "3  https://www.zomato.com/bangalore/addhuri-udupi...   \n",
       "4  https://www.zomato.com/bangalore/grand-village...   \n",
       "\n",
       "                                             address                   name  \\\n",
       "0  942, 21st Main Road, 2nd Stage, Banashankari, ...                  Jalsa   \n",
       "1  2nd Floor, 80 Feet Road, Near Big Bazaar, 6th ...         Spice Elephant   \n",
       "2  1112, Next to KIMS Medical College, 17th Cross...        San Churro Cafe   \n",
       "3  1st Floor, Annakuteera, 3rd Stage, Banashankar...  Addhuri Udupi Bhojana   \n",
       "4  10, 3rd Floor, Lakshmi Associates, Gandhi Baza...          Grand Village   \n",
       "\n",
       "  online_order book_table  rate  votes                             phone  \\\n",
       "0          Yes        Yes   4.1    775    080 42297555\\r\\n+91 9743772233   \n",
       "1          Yes         No   4.1    787                      080 41714161   \n",
       "2          Yes         No   3.8    918                    +91 9663487993   \n",
       "3           No         No   3.7     88                    +91 9620009302   \n",
       "4           No         No   3.8    166  +91 8026612447\\r\\n+91 9901210005   \n",
       "\n",
       "       location            rest_type  \\\n",
       "0  Banashankari        Casual Dining   \n",
       "1  Banashankari        Casual Dining   \n",
       "2  Banashankari  Cafe, Casual Dining   \n",
       "3  Banashankari          Quick Bites   \n",
       "4  Basavanagudi        Casual Dining   \n",
       "\n",
       "                                          dish_liked  \\\n",
       "0  Pasta, Lunch Buffet, Masala Papad, Paneer Laja...   \n",
       "1  Momos, Lunch Buffet, Chocolate Nirvana, Thai G...   \n",
       "2  Churros, Cannelloni, Minestrone Soup, Hot Choc...   \n",
       "3                                        Masala Dosa   \n",
       "4                                Panipuri, Gol Gappe   \n",
       "\n",
       "                         cuisines approx_cost(for two people)  \\\n",
       "0  North Indian, Mughlai, Chinese                         800   \n",
       "1     Chinese, North Indian, Thai                         800   \n",
       "2          Cafe, Mexican, Italian                         800   \n",
       "3      South Indian, North Indian                         300   \n",
       "4        North Indian, Rajasthani                         600   \n",
       "\n",
       "                                        reviews_list menu_item  \\\n",
       "0  [('Rated 4.0', 'RATED\\n  A beautiful place to ...        []   \n",
       "1  [('Rated 4.0', 'RATED\\n  Had been here for din...        []   \n",
       "2  [('Rated 3.0', \"RATED\\n  Ambience is not that ...        []   \n",
       "3  [('Rated 4.0', \"RATED\\n  Great food and proper...        []   \n",
       "4  [('Rated 4.0', 'RATED\\n  Very good restaurant ...        []   \n",
       "\n",
       "  listed_in(type) listed_in(city)  \n",
       "0          Buffet    Banashankari  \n",
       "1          Buffet    Banashankari  \n",
       "2          Buffet    Banashankari  \n",
       "3          Buffet    Banashankari  \n",
       "4          Buffet    Banashankari  "
      ]
     },
     "execution_count": 20,
     "metadata": {},
     "output_type": "execute_result"
    }
   ],
   "source": [
    "df.head()"
   ]
  },
  {
   "cell_type": "markdown",
   "id": "24d9df43",
   "metadata": {},
   "source": [
    "### calculate avg rating of each resturant"
   ]
  },
  {
   "cell_type": "code",
   "execution_count": 21,
   "id": "2086ee3f",
   "metadata": {},
   "outputs": [
    {
     "data": {
      "text/html": [
       "<div>\n",
       "<style scoped>\n",
       "    .dataframe tbody tr th:only-of-type {\n",
       "        vertical-align: middle;\n",
       "    }\n",
       "\n",
       "    .dataframe tbody tr th {\n",
       "        vertical-align: top;\n",
       "    }\n",
       "\n",
       "    .dataframe thead th {\n",
       "        text-align: right;\n",
       "    }\n",
       "</style>\n",
       "<table border=\"1\" class=\"dataframe\">\n",
       "  <thead>\n",
       "    <tr style=\"text-align: right;\">\n",
       "      <th></th>\n",
       "      <th>restaurant</th>\n",
       "      <th>avg_rating</th>\n",
       "    </tr>\n",
       "  </thead>\n",
       "  <tbody>\n",
       "    <tr>\n",
       "      <th>0</th>\n",
       "      <td>#FeelTheROLL</td>\n",
       "      <td>3.400000</td>\n",
       "    </tr>\n",
       "    <tr>\n",
       "      <th>1</th>\n",
       "      <td>#L-81 Cafe</td>\n",
       "      <td>3.900000</td>\n",
       "    </tr>\n",
       "    <tr>\n",
       "      <th>2</th>\n",
       "      <td>#refuel</td>\n",
       "      <td>3.700000</td>\n",
       "    </tr>\n",
       "    <tr>\n",
       "      <th>3</th>\n",
       "      <td>1000 B.C</td>\n",
       "      <td>3.200000</td>\n",
       "    </tr>\n",
       "    <tr>\n",
       "      <th>4</th>\n",
       "      <td>100ÃÂÃÂÃÂÃÂÃÂÃÂÃÂÃÂ°C</td>\n",
       "      <td>3.700000</td>\n",
       "    </tr>\n",
       "    <tr>\n",
       "      <th>5</th>\n",
       "      <td>11 to 11 Express Biriyanis</td>\n",
       "      <td>3.500000</td>\n",
       "    </tr>\n",
       "    <tr>\n",
       "      <th>6</th>\n",
       "      <td>1131 Bar + Kitchen</td>\n",
       "      <td>4.500000</td>\n",
       "    </tr>\n",
       "    <tr>\n",
       "      <th>7</th>\n",
       "      <td>12th Main - Grand Mercure</td>\n",
       "      <td>4.100000</td>\n",
       "    </tr>\n",
       "    <tr>\n",
       "      <th>8</th>\n",
       "      <td>1441 Pizzeria</td>\n",
       "      <td>4.100000</td>\n",
       "    </tr>\n",
       "    <tr>\n",
       "      <th>9</th>\n",
       "      <td>1522 - The Pub</td>\n",
       "      <td>4.212000</td>\n",
       "    </tr>\n",
       "    <tr>\n",
       "      <th>10</th>\n",
       "      <td>154 Breakfast Club</td>\n",
       "      <td>4.000000</td>\n",
       "    </tr>\n",
       "    <tr>\n",
       "      <th>11</th>\n",
       "      <td>1722 Urban Bistro</td>\n",
       "      <td>4.100000</td>\n",
       "    </tr>\n",
       "    <tr>\n",
       "      <th>12</th>\n",
       "      <td>18+ Ice Cafe</td>\n",
       "      <td>3.500000</td>\n",
       "    </tr>\n",
       "    <tr>\n",
       "      <th>13</th>\n",
       "      <td>1947</td>\n",
       "      <td>4.021429</td>\n",
       "    </tr>\n",
       "    <tr>\n",
       "      <th>14</th>\n",
       "      <td>1980s Games Cafe</td>\n",
       "      <td>3.400000</td>\n",
       "    </tr>\n",
       "    <tr>\n",
       "      <th>15</th>\n",
       "      <td>1992 Chats - Space</td>\n",
       "      <td>3.700000</td>\n",
       "    </tr>\n",
       "    <tr>\n",
       "      <th>16</th>\n",
       "      <td>1Q1</td>\n",
       "      <td>4.300000</td>\n",
       "    </tr>\n",
       "    <tr>\n",
       "      <th>17</th>\n",
       "      <td>1TO3 Kitchen</td>\n",
       "      <td>3.100000</td>\n",
       "    </tr>\n",
       "    <tr>\n",
       "      <th>18</th>\n",
       "      <td>2 Statez</td>\n",
       "      <td>3.700000</td>\n",
       "    </tr>\n",
       "    <tr>\n",
       "      <th>19</th>\n",
       "      <td>20 Char - Sterlings MAC Hotel</td>\n",
       "      <td>4.000000</td>\n",
       "    </tr>\n",
       "  </tbody>\n",
       "</table>\n",
       "</div>"
      ],
      "text/plain": [
       "                              restaurant  avg_rating\n",
       "0                           #FeelTheROLL    3.400000\n",
       "1                             #L-81 Cafe    3.900000\n",
       "2                                #refuel    3.700000\n",
       "3                               1000 B.C    3.200000\n",
       "4   100ÃÂÃÂÃÂÃÂÃÂÃÂÃÂÃÂ°C    3.700000\n",
       "5             11 to 11 Express Biriyanis    3.500000\n",
       "6                     1131 Bar + Kitchen    4.500000\n",
       "7              12th Main - Grand Mercure    4.100000\n",
       "8                          1441 Pizzeria    4.100000\n",
       "9                         1522 - The Pub    4.212000\n",
       "10                    154 Breakfast Club    4.000000\n",
       "11                     1722 Urban Bistro    4.100000\n",
       "12                          18+ Ice Cafe    3.500000\n",
       "13                                  1947    4.021429\n",
       "14                      1980s Games Cafe    3.400000\n",
       "15                    1992 Chats - Space    3.700000\n",
       "16                                   1Q1    4.300000\n",
       "17                          1TO3 Kitchen    3.100000\n",
       "18                              2 Statez    3.700000\n",
       "19         20 Char - Sterlings MAC Hotel    4.000000"
      ]
     },
     "execution_count": 21,
     "metadata": {},
     "output_type": "execute_result"
    }
   ],
   "source": [
    "df_rate = df.groupby('name')['rate'].mean().to_frame().reset_index()\n",
    "df_rate.columns = ['restaurant','avg_rating']\n",
    "df_rate.head(20)"
   ]
  },
  {
   "cell_type": "markdown",
   "id": "66729227",
   "metadata": {},
   "source": [
    "### Rating Distribution"
   ]
  },
  {
   "cell_type": "code",
   "execution_count": 22,
   "id": "3761a6be",
   "metadata": {},
   "outputs": [
    {
     "data": {
      "text/plain": [
       "<seaborn.axisgrid.FacetGrid at 0x1de248a6610>"
      ]
     },
     "execution_count": 22,
     "metadata": {},
     "output_type": "execute_result"
    },
    {
     "data": {
      "image/png": "[encoded data removed]",
      "text/plain": [
       "<Figure size 360x360 with 1 Axes>"
      ]
     },
     "metadata": {},
     "output_type": "display_data"
    }
   ],
   "source": [
    "sns.set_style(style = 'whitegrid')\n",
    "sns.displot(df_rate['avg_rating'])"
   ]
  },
  {
   "cell_type": "code",
   "execution_count": 23,
   "id": "7bb84a04",
   "metadata": {},
   "outputs": [],
   "source": [
    "import warnings\n",
    "warnings.filterwarnings('ignore')"
   ]
  },
  {
   "cell_type": "code",
   "execution_count": 24,
   "id": "293509c9",
   "metadata": {},
   "outputs": [
    {
     "data": {
      "text/plain": [
       "<AxesSubplot:xlabel='avg_rating', ylabel='Density'>"
      ]
     },
     "execution_count": 24,
     "metadata": {},
     "output_type": "execute_result"
    },
    {
     "data": {
      "image/png": "[encoded data removed]",
      "text/plain": [
       "<Figure size 432x288 with 1 Axes>"
      ]
     },
     "metadata": {},
     "output_type": "display_data"
    }
   ],
   "source": [
    "sns.set_style(style = 'whitegrid')\n",
    "sns.distplot(df_rate['avg_rating'])"
   ]
  },
  {
   "cell_type": "markdown",
   "id": "855cbdbc",
   "metadata": {},
   "source": [
    "#### Almost more than 50 percent of restaurants has rating between 3 and 4. Restaurants having rating more than 4.5  are very rare."
   ]
  },
  {
   "cell_type": "code",
   "execution_count": 25,
   "id": "e19b12d3",
   "metadata": {},
   "outputs": [
    {
     "data": {
      "text/plain": [
       "(7162, 2)"
      ]
     },
     "execution_count": 25,
     "metadata": {},
     "output_type": "execute_result"
    }
   ],
   "source": [
    "df_rate.shape"
   ]
  },
  {
   "cell_type": "markdown",
   "id": "8ea67a1d",
   "metadata": {},
   "source": [
    "### Which are top restaurant chains in Bengaluru?"
   ]
  },
  {
   "cell_type": "code",
   "execution_count": 26,
   "id": "0ce65caa",
   "metadata": {},
   "outputs": [
    {
     "data": {
      "text/plain": [
       "Text(0.5, 0, 'Number of outlets')"
      ]
     },
     "execution_count": 26,
     "metadata": {},
     "output_type": "execute_result"
    },
    {
     "data": {
      "image/png": "[encoded data removed]",
      "text/plain": [
       "<Figure size 720x504 with 1 Axes>"
      ]
     },
     "metadata": {},
     "output_type": "display_data"
    }
   ],
   "source": [
    "plt.figure(figsize = (10,7))\n",
    "chains = df['name'].value_counts()[0:20]\n",
    "sns.barplot(x=chains,y=chains.index,palette='deep')\n",
    "plt.title('Most Famous Restaurants chains in bengaluru')\n",
    "plt.xlabel('Number of outlets')"
   ]
  },
  {
   "cell_type": "code",
   "execution_count": null,
   "id": "1ce592e1",
   "metadata": {},
   "outputs": [],
   "source": []
  },
  {
   "cell_type": "markdown",
   "id": "806adab4",
   "metadata": {},
   "source": [
    "### How many of the restaurants do not accept online orders?"
   ]
  },
  {
   "cell_type": "code",
   "execution_count": 27,
   "id": "eeedf5fd",
   "metadata": {},
   "outputs": [
    {
     "data": {
      "text/plain": [
       "Yes    28308\n",
       "No     15634\n",
       "Name: online_order, dtype: int64"
      ]
     },
     "execution_count": 27,
     "metadata": {},
     "output_type": "execute_result"
    }
   ],
   "source": [
    "x = df['online_order'].value_counts()\n",
    "x"
   ]
  },
  {
   "cell_type": "code",
   "execution_count": 28,
   "id": "7a64ef83",
   "metadata": {},
   "outputs": [],
   "source": [
    "labels = ['accepted','Not accepted']"
   ]
  },
  {
   "cell_type": "code",
   "execution_count": 31,
   "id": "20422360",
   "metadata": {},
   "outputs": [
    {
     "data": {
      "image/png": "[encoded data removed]",
      "text/plain": [
       "<Figure size 432x288 with 1 Axes>"
      ]
     },
     "metadata": {},
     "output_type": "display_data"
    }
   ],
   "source": [
    "plt.pie(x, labels=labels, autopct='%1.1f%%', explode=[0.0,0.1])\n",
    "plt.show()"
   ]
  },
  {
   "cell_type": "markdown",
   "id": "f8140f3f",
   "metadata": {},
   "source": [
    "### What is the ratio b/w restaurants that provide and do not provide table booking ?"
   ]
  },
  {
   "cell_type": "code",
   "execution_count": 32,
   "id": "b0dad6e7",
   "metadata": {},
   "outputs": [
    {
     "data": {
      "text/plain": [
       "No     37509\n",
       "Yes     6433\n",
       "Name: book_table, dtype: int64"
      ]
     },
     "execution_count": 32,
     "metadata": {},
     "output_type": "execute_result"
    }
   ],
   "source": [
    "x=df['book_table'].value_counts()\n",
    "x"
   ]
  },
  {
   "cell_type": "code",
   "execution_count": 33,
   "id": "00176a8f",
   "metadata": {},
   "outputs": [],
   "source": [
    "labels = ['not book','book']"
   ]
  },
  {
   "cell_type": "code",
   "execution_count": 34,
   "id": "6438bb9d",
   "metadata": {},
   "outputs": [
    {
     "data": {
      "image/png": "[encoded data removed]",
      "text/plain": [
       "<Figure size 432x288 with 1 Axes>"
      ]
     },
     "metadata": {},
     "output_type": "display_data"
    }
   ],
   "source": [
    "plt.pie(x, labels=labels, autopct='%1.1f%%', explode=[0.0,0.1])\n",
    "plt.show()"
   ]
  },
  {
   "cell_type": "markdown",
   "id": "89d66509",
   "metadata": {},
   "source": [
    "### How many types of restaurants we have?"
   ]
  },
  {
   "cell_type": "code",
   "execution_count": 35,
   "id": "64ead0c2",
   "metadata": {},
   "outputs": [
    {
     "data": {
      "text/plain": [
       "151"
      ]
     },
     "execution_count": 35,
     "metadata": {},
     "output_type": "execute_result"
    }
   ],
   "source": [
    "df['rest_type'].isna().sum()"
   ]
  },
  {
   "cell_type": "code",
   "execution_count": 36,
   "id": "43545be5",
   "metadata": {},
   "outputs": [],
   "source": [
    "df['rest_type'].dropna(inplace=True)"
   ]
  },
  {
   "cell_type": "code",
   "execution_count": 37,
   "id": "43f06c34",
   "metadata": {},
   "outputs": [
    {
     "data": {
      "text/plain": [
       "88"
      ]
     },
     "execution_count": 37,
     "metadata": {},
     "output_type": "execute_result"
    }
   ],
   "source": [
    "len(df['rest_type'].unique())"
   ]
  },
  {
   "cell_type": "code",
   "execution_count": 39,
   "id": "163003a0",
   "metadata": {},
   "outputs": [
    {
     "data": {
      "image/png": "[encoded data removed]",
      "text/plain": [
       "<Figure size 1440x864 with 1 Axes>"
      ]
     },
     "metadata": {},
     "output_type": "display_data"
    }
   ],
   "source": [
    "plt.figure(figsize=(20,12))\n",
    "df['rest_type'].value_counts().nlargest(20).plot.bar(color='red')\n",
    "plt.gcf().autofmt_xdate()"
   ]
  },
  {
   "cell_type": "markdown",
   "id": "374c9730",
   "metadata": {},
   "source": [
    "##### At all, Banglore is known as the tech capital of India,people having busy and modern life will prefer Quick Bites.\n",
    "##### We can observe tha Quick Bites type restaurants dominates."
   ]
  },
  {
   "cell_type": "code",
   "execution_count": null,
   "id": "28b15402",
   "metadata": {},
   "outputs": [],
   "source": []
  },
  {
   "cell_type": "markdown",
   "id": "65df5ffc",
   "metadata": {},
   "source": [
    "### highest voted restaurant"
   ]
  },
  {
   "cell_type": "code",
   "execution_count": 40,
   "id": "47eac977",
   "metadata": {},
   "outputs": [
    {
     "data": {
      "text/plain": [
       "<AxesSubplot:xlabel='name'>"
      ]
     },
     "execution_count": 40,
     "metadata": {},
     "output_type": "execute_result"
    },
    {
     "data": {
      "image/png": "[encoded data removed]",
      "text/plain": [
       "<Figure size 432x288 with 1 Axes>"
      ]
     },
     "metadata": {},
     "output_type": "display_data"
    }
   ],
   "source": [
    "df.groupby('name')['votes'].sum().nlargest(20).plot.bar()"
   ]
  },
  {
   "cell_type": "markdown",
   "id": "888efe55",
   "metadata": {},
   "source": [
    "### total restaurants at different locations of Bengalore"
   ]
  },
  {
   "cell_type": "code",
   "execution_count": 41,
   "id": "350328e5",
   "metadata": {},
   "outputs": [
    {
     "data": {
      "text/plain": [
       "location\n",
       "BTM                  [Sankranthi Veg Restaurant, Hearts Unlock Cafe...\n",
       "Banashankari         [Jalsa, Spice Elephant, San Churro Cafe, Addhu...\n",
       "Banaswadi            [Cafe Nibras, The Sanctuary, Crunch Pizzas, Pi...\n",
       "Bannerghatta Road    [Deja Vu Resto Bar, Fattoush, Empire Restauran...\n",
       "Basavanagudi         [Grand Village, Timepass Dinner, Srinathji's C...\n",
       "                                           ...                        \n",
       "West Bangalore       [FreshMenu, Fit Dish Fetish, Garden City Mobil...\n",
       "Whitefield           [Imperio Cafe, Night Diaries, LocalHost, AB's ...\n",
       "Wilson Garden        [Tree Top, Sahana's (Nati Style), Karavali Kol...\n",
       "Yelahanka            [Prashanth Naati Corner, Cheta's Kitchen, Twis...\n",
       "Yeshwantpur          [Chef's Bank, New Agarwal Bhavan, Fishing Boat...\n",
       "Name: name, Length: 92, dtype: object"
      ]
     },
     "execution_count": 41,
     "metadata": {},
     "output_type": "execute_result"
    }
   ],
   "source": [
    "df.groupby('location')['name'].unique()"
   ]
  },
  {
   "cell_type": "code",
   "execution_count": 42,
   "id": "6679f7cc",
   "metadata": {},
   "outputs": [],
   "source": [
    "restaurant=[]\n",
    "location=[]\n",
    "for key,location_df in df.groupby('location'):\n",
    "    location.append(key)\n",
    "    restaurant.append(len(location_df['name'].unique()))\n",
    "    "
   ]
  },
  {
   "cell_type": "code",
   "execution_count": 43,
   "id": "b3b2cc92",
   "metadata": {},
   "outputs": [
    {
     "data": {
      "text/html": [
       "<div>\n",
       "<style scoped>\n",
       "    .dataframe tbody tr th:only-of-type {\n",
       "        vertical-align: middle;\n",
       "    }\n",
       "\n",
       "    .dataframe tbody tr th {\n",
       "        vertical-align: top;\n",
       "    }\n",
       "\n",
       "    .dataframe thead th {\n",
       "        text-align: right;\n",
       "    }\n",
       "</style>\n",
       "<table border=\"1\" class=\"dataframe\">\n",
       "  <thead>\n",
       "    <tr style=\"text-align: right;\">\n",
       "      <th></th>\n",
       "      <th>0</th>\n",
       "      <th>1</th>\n",
       "    </tr>\n",
       "  </thead>\n",
       "  <tbody>\n",
       "    <tr>\n",
       "      <th>0</th>\n",
       "      <td>BTM</td>\n",
       "      <td>581</td>\n",
       "    </tr>\n",
       "    <tr>\n",
       "      <th>1</th>\n",
       "      <td>Banashankari</td>\n",
       "      <td>238</td>\n",
       "    </tr>\n",
       "    <tr>\n",
       "      <th>2</th>\n",
       "      <td>Banaswadi</td>\n",
       "      <td>151</td>\n",
       "    </tr>\n",
       "    <tr>\n",
       "      <th>3</th>\n",
       "      <td>Bannerghatta Road</td>\n",
       "      <td>362</td>\n",
       "    </tr>\n",
       "    <tr>\n",
       "      <th>4</th>\n",
       "      <td>Basavanagudi</td>\n",
       "      <td>195</td>\n",
       "    </tr>\n",
       "  </tbody>\n",
       "</table>\n",
       "</div>"
      ],
      "text/plain": [
       "                   0    1\n",
       "0                BTM  581\n",
       "1       Banashankari  238\n",
       "2          Banaswadi  151\n",
       "3  Bannerghatta Road  362\n",
       "4       Basavanagudi  195"
      ]
     },
     "execution_count": 43,
     "metadata": {},
     "output_type": "execute_result"
    }
   ],
   "source": [
    "df_total=pd.DataFrame(zip(location,restaurant))\n",
    "df_total.head()"
   ]
  },
  {
   "cell_type": "code",
   "execution_count": 44,
   "id": "dcff7d9e",
   "metadata": {},
   "outputs": [
    {
     "data": {
      "text/html": [
       "<div>\n",
       "<style scoped>\n",
       "    .dataframe tbody tr th:only-of-type {\n",
       "        vertical-align: middle;\n",
       "    }\n",
       "\n",
       "    .dataframe tbody tr th {\n",
       "        vertical-align: top;\n",
       "    }\n",
       "\n",
       "    .dataframe thead th {\n",
       "        text-align: right;\n",
       "    }\n",
       "</style>\n",
       "<table border=\"1\" class=\"dataframe\">\n",
       "  <thead>\n",
       "    <tr style=\"text-align: right;\">\n",
       "      <th></th>\n",
       "      <th>location</th>\n",
       "      <th>restaurant</th>\n",
       "    </tr>\n",
       "  </thead>\n",
       "  <tbody>\n",
       "    <tr>\n",
       "      <th>0</th>\n",
       "      <td>BTM</td>\n",
       "      <td>581</td>\n",
       "    </tr>\n",
       "    <tr>\n",
       "      <th>1</th>\n",
       "      <td>Banashankari</td>\n",
       "      <td>238</td>\n",
       "    </tr>\n",
       "    <tr>\n",
       "      <th>2</th>\n",
       "      <td>Banaswadi</td>\n",
       "      <td>151</td>\n",
       "    </tr>\n",
       "    <tr>\n",
       "      <th>3</th>\n",
       "      <td>Bannerghatta Road</td>\n",
       "      <td>362</td>\n",
       "    </tr>\n",
       "    <tr>\n",
       "      <th>4</th>\n",
       "      <td>Basavanagudi</td>\n",
       "      <td>195</td>\n",
       "    </tr>\n",
       "  </tbody>\n",
       "</table>\n",
       "</div>"
      ],
      "text/plain": [
       "            location  restaurant\n",
       "0                BTM         581\n",
       "1       Banashankari         238\n",
       "2          Banaswadi         151\n",
       "3  Bannerghatta Road         362\n",
       "4       Basavanagudi         195"
      ]
     },
     "execution_count": 44,
     "metadata": {},
     "output_type": "execute_result"
    }
   ],
   "source": [
    "df_total.columns=['location','restaurant']\n",
    "df_total.head()"
   ]
  },
  {
   "cell_type": "code",
   "execution_count": 45,
   "id": "284bc70b",
   "metadata": {},
   "outputs": [
    {
     "data": {
      "text/html": [
       "<div>\n",
       "<style scoped>\n",
       "    .dataframe tbody tr th:only-of-type {\n",
       "        vertical-align: middle;\n",
       "    }\n",
       "\n",
       "    .dataframe tbody tr th {\n",
       "        vertical-align: top;\n",
       "    }\n",
       "\n",
       "    .dataframe thead th {\n",
       "        text-align: right;\n",
       "    }\n",
       "</style>\n",
       "<table border=\"1\" class=\"dataframe\">\n",
       "  <thead>\n",
       "    <tr style=\"text-align: right;\">\n",
       "      <th></th>\n",
       "      <th>restaurant</th>\n",
       "    </tr>\n",
       "    <tr>\n",
       "      <th>location</th>\n",
       "      <th></th>\n",
       "    </tr>\n",
       "  </thead>\n",
       "  <tbody>\n",
       "    <tr>\n",
       "      <th>BTM</th>\n",
       "      <td>581</td>\n",
       "    </tr>\n",
       "    <tr>\n",
       "      <th>Banashankari</th>\n",
       "      <td>238</td>\n",
       "    </tr>\n",
       "    <tr>\n",
       "      <th>Banaswadi</th>\n",
       "      <td>151</td>\n",
       "    </tr>\n",
       "    <tr>\n",
       "      <th>Bannerghatta Road</th>\n",
       "      <td>362</td>\n",
       "    </tr>\n",
       "    <tr>\n",
       "      <th>Basavanagudi</th>\n",
       "      <td>195</td>\n",
       "    </tr>\n",
       "  </tbody>\n",
       "</table>\n",
       "</div>"
      ],
      "text/plain": [
       "                   restaurant\n",
       "location                     \n",
       "BTM                       581\n",
       "Banashankari              238\n",
       "Banaswadi                 151\n",
       "Bannerghatta Road         362\n",
       "Basavanagudi              195"
      ]
     },
     "execution_count": 45,
     "metadata": {},
     "output_type": "execute_result"
    }
   ],
   "source": [
    "df_total.set_index('location',inplace=True)\n",
    "df_total.head()"
   ]
  },
  {
   "cell_type": "code",
   "execution_count": 46,
   "id": "8993f128",
   "metadata": {},
   "outputs": [
    {
     "data": {
      "text/plain": [
       "<AxesSubplot:xlabel='location'>"
      ]
     },
     "execution_count": 46,
     "metadata": {},
     "output_type": "execute_result"
    },
    {
     "data": {
      "image/png": "[encoded data removed]",
      "text/plain": [
       "<Figure size 432x288 with 1 Axes>"
      ]
     },
     "metadata": {},
     "output_type": "display_data"
    }
   ],
   "source": [
    "df_total.sort_values(by ='restaurant').tail(10).plot.bar()"
   ]
  },
  {
   "cell_type": "markdown",
   "id": "73584114",
   "metadata": {},
   "source": [
    "### different type of restaurants\n"
   ]
  },
  {
   "cell_type": "markdown",
   "id": "de30dc3e",
   "metadata": {},
   "source": [
    "##### Total number of variety of restaurants ie north indian,south Indian"
   ]
  },
  {
   "cell_type": "code",
   "execution_count": 47,
   "id": "6eaee978",
   "metadata": {},
   "outputs": [
    {
     "data": {
      "text/plain": [
       "North Indian                           2294\n",
       "North Indian, Chinese                  2060\n",
       "South Indian                           1320\n",
       "Cafe                                    653\n",
       "Bakery, Desserts                        644\n",
       "Biryani                                 641\n",
       "South Indian, North Indian, Chinese     601\n",
       "Fast Food                               580\n",
       "Desserts                                572\n",
       "Chinese                                 449\n",
       "Name: cuisines, dtype: int64"
      ]
     },
     "execution_count": 47,
     "metadata": {},
     "output_type": "execute_result"
    }
   ],
   "source": [
    "cuisines = df['cuisines'].value_counts()[0:10]\n",
    "cuisines"
   ]
  },
  {
   "cell_type": "code",
   "execution_count": 48,
   "id": "357d3572",
   "metadata": {},
   "outputs": [
    {
     "data": {
      "text/plain": [
       "Text(0.5, 1.0, 'Most popular cuisines of Bangalore')"
      ]
     },
     "execution_count": 48,
     "metadata": {},
     "output_type": "execute_result"
    },
    {
     "data": {
      "image/png": "[encoded data removed]",
      "text/plain": [
       "<Figure size 432x288 with 1 Axes>"
      ]
     },
     "metadata": {},
     "output_type": "display_data"
    }
   ],
   "source": [
    "sns.barplot(cuisines,cuisines.index)\n",
    "plt.xlabel('Count')\n",
    "plt.title(\"Most popular cuisines of Bangalore\")"
   ]
  },
  {
   "cell_type": "markdown",
   "id": "aab3bc5d",
   "metadata": {},
   "source": [
    "#### We can observe that North Indian,chinese,South Indian and Biriyani are most common.\n",
    "#### It means Bengalore is more influenced by North Indian culture more than South"
   ]
  },
  {
   "cell_type": "code",
   "execution_count": null,
   "id": "a9af7372",
   "metadata": {},
   "outputs": [],
   "source": []
  },
  {
   "cell_type": "markdown",
   "id": "fd240ea7",
   "metadata": {},
   "source": [
    "### Analyse Approx cost for 2 people"
   ]
  },
  {
   "cell_type": "code",
   "execution_count": 49,
   "id": "211392b9",
   "metadata": {},
   "outputs": [
    {
     "data": {
      "text/plain": [
       "Index(['url', 'address', 'name', 'online_order', 'book_table', 'rate', 'votes',\n",
       "       'phone', 'location', 'rest_type', 'dish_liked', 'cuisines',\n",
       "       'approx_cost(for two people)', 'reviews_list', 'menu_item',\n",
       "       'listed_in(type)', 'listed_in(city)'],\n",
       "      dtype='object')"
      ]
     },
     "execution_count": 49,
     "metadata": {},
     "output_type": "execute_result"
    }
   ],
   "source": [
    "df.columns"
   ]
  },
  {
   "cell_type": "code",
   "execution_count": 50,
   "id": "7e264c19",
   "metadata": {},
   "outputs": [
    {
     "data": {
      "text/plain": [
       "252"
      ]
     },
     "execution_count": 50,
     "metadata": {},
     "output_type": "execute_result"
    }
   ],
   "source": [
    "df['approx_cost(for two people)'].isna().sum()"
   ]
  },
  {
   "cell_type": "code",
   "execution_count": 51,
   "id": "3aa5eda5",
   "metadata": {},
   "outputs": [],
   "source": [
    "df.dropna(axis='index',subset=['approx_cost(for two people)'],inplace=True)"
   ]
  },
  {
   "cell_type": "code",
   "execution_count": 52,
   "id": "88d0ef54",
   "metadata": {},
   "outputs": [
    {
     "data": {
      "text/plain": [
       "0"
      ]
     },
     "execution_count": 52,
     "metadata": {},
     "output_type": "execute_result"
    }
   ],
   "source": [
    "df['approx_cost(for two people)'].isna().sum()"
   ]
  },
  {
   "cell_type": "code",
   "execution_count": 53,
   "id": "bfb60c4f",
   "metadata": {},
   "outputs": [
    {
     "data": {
      "text/plain": [
       "dtype('O')"
      ]
     },
     "execution_count": 53,
     "metadata": {},
     "output_type": "execute_result"
    }
   ],
   "source": [
    "df['approx_cost(for two people)'].dtype"
   ]
  },
  {
   "cell_type": "code",
   "execution_count": 54,
   "id": "f7b16662",
   "metadata": {},
   "outputs": [
    {
     "data": {
      "text/plain": [
       "array(['800', '300', '600', '700', '550', '500', '450', '650', '400',\n",
       "       '900', '200', '750', '150', '850', '100', '1,200', '350', '250',\n",
       "       '950', '1,000', '1,500', '1,300', '199', '80', '1,100', '160',\n",
       "       '1,600', '230', '130', '1,700', '1,400', '1,350', '2,200', '2,000',\n",
       "       '1,800', '1,900', '180', '330', '2,500', '2,100', '3,000', '2,800',\n",
       "       '3,400', '50', '40', '1,250', '3,500', '4,000', '2,400', '2,600',\n",
       "       '1,450', '70', '3,200', '560', '240', '360', '6,000', '1,050',\n",
       "       '2,300', '4,100', '120', '5,000', '3,700', '1,650', '2,700',\n",
       "       '4,500'], dtype=object)"
      ]
     },
     "execution_count": 54,
     "metadata": {},
     "output_type": "execute_result"
    }
   ],
   "source": [
    "df['approx_cost(for two people)'].unique()"
   ]
  },
  {
   "cell_type": "code",
   "execution_count": 55,
   "id": "8cbcc148",
   "metadata": {},
   "outputs": [],
   "source": [
    "df['approx_cost(for two people)'] = df['approx_cost(for two people)'].apply(lambda x: x.replace(',',''))"
   ]
  },
  {
   "cell_type": "code",
   "execution_count": 56,
   "id": "e5639b57",
   "metadata": {},
   "outputs": [
    {
     "data": {
      "text/plain": [
       "array(['800', '300', '600', '700', '550', '500', '450', '650', '400',\n",
       "       '900', '200', '750', '150', '850', '100', '1200', '350', '250',\n",
       "       '950', '1000', '1500', '1300', '199', '80', '1100', '160', '1600',\n",
       "       '230', '130', '1700', '1400', '1350', '2200', '2000', '1800',\n",
       "       '1900', '180', '330', '2500', '2100', '3000', '2800', '3400', '50',\n",
       "       '40', '1250', '3500', '4000', '2400', '2600', '1450', '70', '3200',\n",
       "       '560', '240', '360', '6000', '1050', '2300', '4100', '120', '5000',\n",
       "       '3700', '1650', '2700', '4500'], dtype=object)"
      ]
     },
     "execution_count": 56,
     "metadata": {},
     "output_type": "execute_result"
    }
   ],
   "source": [
    "df['approx_cost(for two people)'].unique()"
   ]
  },
  {
   "cell_type": "code",
   "execution_count": 57,
   "id": "865be24f",
   "metadata": {},
   "outputs": [],
   "source": [
    "df['approx_cost(for two people)'] = df['approx_cost(for two people)'].astype(int)"
   ]
  },
  {
   "cell_type": "code",
   "execution_count": 58,
   "id": "57ad990e",
   "metadata": {},
   "outputs": [
    {
     "data": {
      "text/plain": [
       "dtype('int32')"
      ]
     },
     "execution_count": 58,
     "metadata": {},
     "output_type": "execute_result"
    }
   ],
   "source": [
    "df['approx_cost(for two people)'].dtype"
   ]
  },
  {
   "cell_type": "code",
   "execution_count": 59,
   "id": "b8c8c389",
   "metadata": {},
   "outputs": [
    {
     "data": {
      "text/plain": [
       "<AxesSubplot:xlabel='approx_cost(for two people)', ylabel='Density'>"
      ]
     },
     "execution_count": 59,
     "metadata": {},
     "output_type": "execute_result"
    },
    {
     "data": {
      "image/png": "[encoded data removed]",
      "text/plain": [
       "<Figure size 432x288 with 1 Axes>"
      ]
     },
     "metadata": {},
     "output_type": "display_data"
    }
   ],
   "source": [
    "sns.distplot(df['approx_cost(for two people)'])"
   ]
  },
  {
   "cell_type": "code",
   "execution_count": 60,
   "id": "ef659793",
   "metadata": {},
   "outputs": [
    {
     "data": {
      "text/plain": [
       "<seaborn.axisgrid.FacetGrid at 0x1de4a2e3df0>"
      ]
     },
     "execution_count": 60,
     "metadata": {},
     "output_type": "execute_result"
    },
    {
     "data": {
      "image/png": "[encoded data removed]",
      "text/plain": [
       "<Figure size 360x360 with 1 Axes>"
      ]
     },
     "metadata": {},
     "output_type": "display_data"
    }
   ],
   "source": [
    "sns.displot(df['approx_cost(for two people)'])"
   ]
  },
  {
   "cell_type": "markdown",
   "id": "9202f49d",
   "metadata": {},
   "source": [
    "### cost vs. rating"
   ]
  },
  {
   "cell_type": "code",
   "execution_count": 61,
   "id": "82d92c1f",
   "metadata": {},
   "outputs": [
    {
     "data": {
      "text/plain": [
       "<AxesSubplot:xlabel='rate', ylabel='approx_cost(for two people)'>"
      ]
     },
     "execution_count": 61,
     "metadata": {},
     "output_type": "execute_result"
    },
    {
     "data": {
      "image/png": "[encoded data removed]",
      "text/plain": [
       "<Figure size 432x288 with 1 Axes>"
      ]
     },
     "metadata": {},
     "output_type": "display_data"
    }
   ],
   "source": [
    "sns.scatterplot(x='rate',y='approx_cost(for two people)',hue='online_order',data=df) "
   ]
  },
  {
   "cell_type": "markdown",
   "id": "f3957d88",
   "metadata": {},
   "source": [
    "##### from this scattterplot,we can come up with a conclusion that most of the highest rated accepts online order and they are budgeted too"
   ]
  },
  {
   "cell_type": "code",
   "execution_count": null,
   "id": "5932ce17",
   "metadata": {},
   "outputs": [],
   "source": []
  },
  {
   "cell_type": "markdown",
   "id": "84f1a4be",
   "metadata": {},
   "source": [
    "### Is there any difference b/w votes of restaurants accepting and not accepting online orders?"
   ]
  },
  {
   "cell_type": "code",
   "execution_count": 63,
   "id": "a8bcc6d9",
   "metadata": {},
   "outputs": [
    {
     "data": {
      "text/plain": [
       "<AxesSubplot:xlabel='online_order', ylabel='votes'>"
      ]
     },
     "execution_count": 63,
     "metadata": {},
     "output_type": "execute_result"
    },
    {
     "data": {
      "image/png": "[encoded data removed]",
      "text/plain": [
       "<Figure size 432x288 with 1 Axes>"
      ]
     },
     "metadata": {},
     "output_type": "display_data"
    }
   ],
   "source": [
    "sns.boxplot(x='online_order',y='votes', data=df)"
   ]
  },
  {
   "cell_type": "markdown",
   "id": "c004352b",
   "metadata": {},
   "source": [
    "#### from this boxplot,we can observe that median number of votes for both categories vary.\n",
    "#### Restaurants accepting online orders get more votes from customers as there is a rating option poping up after each order through zomato application."
   ]
  },
  {
   "cell_type": "markdown",
   "id": "5acc5e1a",
   "metadata": {},
   "source": [
    "### Is there any difference b/w price of restaurants accepting and not accepting online orders?"
   ]
  },
  {
   "cell_type": "code",
   "execution_count": 65,
   "id": "751206f8",
   "metadata": {},
   "outputs": [
    {
     "data": {
      "text/plain": [
       "<AxesSubplot:xlabel='online_order', ylabel='approx_cost(for two people)'>"
      ]
     },
     "execution_count": 65,
     "metadata": {},
     "output_type": "execute_result"
    },
    {
     "data": {
      "image/png": "[encoded data removed]",
      "text/plain": [
       "<Figure size 432x288 with 1 Axes>"
      ]
     },
     "metadata": {},
     "output_type": "display_data"
    }
   ],
   "source": [
    "sns.boxplot(x='online_order',y='approx_cost(for two people)', data=df)"
   ]
  },
  {
   "cell_type": "markdown",
   "id": "da25e449",
   "metadata": {},
   "source": [
    "#### Restaurants accepting online orders are more affordable than Restaurants who are accepting online orders"
   ]
  },
  {
   "cell_type": "markdown",
   "id": "59f52721",
   "metadata": {},
   "source": [
    "### Cheapest Rate for 2 people"
   ]
  },
  {
   "cell_type": "code",
   "execution_count": 66,
   "id": "3a5a3e3c",
   "metadata": {},
   "outputs": [
    {
     "data": {
      "text/plain": [
       "40"
      ]
     },
     "execution_count": 66,
     "metadata": {},
     "output_type": "execute_result"
    }
   ],
   "source": [
    "df['approx_cost(for two people)'].min()"
   ]
  },
  {
   "cell_type": "markdown",
   "id": "91a6f6db",
   "metadata": {},
   "source": [
    "### Most costly for 2 people"
   ]
  },
  {
   "cell_type": "code",
   "execution_count": 67,
   "id": "26a506e2",
   "metadata": {},
   "outputs": [
    {
     "data": {
      "text/plain": [
       "6000"
      ]
     },
     "execution_count": 67,
     "metadata": {},
     "output_type": "execute_result"
    }
   ],
   "source": [
    "df['approx_cost(for two people)'].max()"
   ]
  },
  {
   "cell_type": "code",
   "execution_count": 68,
   "id": "3b553373",
   "metadata": {},
   "outputs": [
    {
     "data": {
      "text/plain": [
       "19139    Le Cirque Signature - The Leela Palace\n",
       "45618    Le Cirque Signature - The Leela Palace\n",
       "Name: name, dtype: object"
      ]
     },
     "execution_count": 68,
     "metadata": {},
     "output_type": "execute_result"
    }
   ],
   "source": [
    "df[df['approx_cost(for two people)']==6000]['name']"
   ]
  },
  {
   "cell_type": "code",
   "execution_count": 69,
   "id": "52c2d0b1",
   "metadata": {},
   "outputs": [],
   "source": [
    "data=df.copy()"
   ]
  },
  {
   "cell_type": "code",
   "execution_count": 70,
   "id": "e618941b",
   "metadata": {},
   "outputs": [],
   "source": [
    "data.set_index('name',inplace=True)"
   ]
  },
  {
   "cell_type": "code",
   "execution_count": 71,
   "id": "12b4442e",
   "metadata": {},
   "outputs": [
    {
     "data": {
      "text/html": [
       "<div>\n",
       "<style scoped>\n",
       "    .dataframe tbody tr th:only-of-type {\n",
       "        vertical-align: middle;\n",
       "    }\n",
       "\n",
       "    .dataframe tbody tr th {\n",
       "        vertical-align: top;\n",
       "    }\n",
       "\n",
       "    .dataframe thead th {\n",
       "        text-align: right;\n",
       "    }\n",
       "</style>\n",
       "<table border=\"1\" class=\"dataframe\">\n",
       "  <thead>\n",
       "    <tr style=\"text-align: right;\">\n",
       "      <th></th>\n",
       "      <th>url</th>\n",
       "      <th>address</th>\n",
       "      <th>online_order</th>\n",
       "      <th>book_table</th>\n",
       "      <th>rate</th>\n",
       "      <th>votes</th>\n",
       "      <th>phone</th>\n",
       "      <th>location</th>\n",
       "      <th>rest_type</th>\n",
       "      <th>dish_liked</th>\n",
       "      <th>cuisines</th>\n",
       "      <th>approx_cost(for two people)</th>\n",
       "      <th>reviews_list</th>\n",
       "      <th>menu_item</th>\n",
       "      <th>listed_in(type)</th>\n",
       "      <th>listed_in(city)</th>\n",
       "    </tr>\n",
       "    <tr>\n",
       "      <th>name</th>\n",
       "      <th></th>\n",
       "      <th></th>\n",
       "      <th></th>\n",
       "      <th></th>\n",
       "      <th></th>\n",
       "      <th></th>\n",
       "      <th></th>\n",
       "      <th></th>\n",
       "      <th></th>\n",
       "      <th></th>\n",
       "      <th></th>\n",
       "      <th></th>\n",
       "      <th></th>\n",
       "      <th></th>\n",
       "      <th></th>\n",
       "      <th></th>\n",
       "    </tr>\n",
       "  </thead>\n",
       "  <tbody>\n",
       "    <tr>\n",
       "      <th>Jalsa</th>\n",
       "      <td>https://www.zomato.com/bangalore/jalsa-banasha...</td>\n",
       "      <td>942, 21st Main Road, 2nd Stage, Banashankari, ...</td>\n",
       "      <td>Yes</td>\n",
       "      <td>Yes</td>\n",
       "      <td>4.1</td>\n",
       "      <td>775</td>\n",
       "      <td>080 42297555\\r\\n+91 9743772233</td>\n",
       "      <td>Banashankari</td>\n",
       "      <td>Casual Dining</td>\n",
       "      <td>Pasta, Lunch Buffet, Masala Papad, Paneer Laja...</td>\n",
       "      <td>North Indian, Mughlai, Chinese</td>\n",
       "      <td>800</td>\n",
       "      <td>[('Rated 4.0', 'RATED\\n  A beautiful place to ...</td>\n",
       "      <td>[]</td>\n",
       "      <td>Buffet</td>\n",
       "      <td>Banashankari</td>\n",
       "    </tr>\n",
       "    <tr>\n",
       "      <th>Spice Elephant</th>\n",
       "      <td>https://www.zomato.com/bangalore/spice-elephan...</td>\n",
       "      <td>2nd Floor, 80 Feet Road, Near Big Bazaar, 6th ...</td>\n",
       "      <td>Yes</td>\n",
       "      <td>No</td>\n",
       "      <td>4.1</td>\n",
       "      <td>787</td>\n",
       "      <td>080 41714161</td>\n",
       "      <td>Banashankari</td>\n",
       "      <td>Casual Dining</td>\n",
       "      <td>Momos, Lunch Buffet, Chocolate Nirvana, Thai G...</td>\n",
       "      <td>Chinese, North Indian, Thai</td>\n",
       "      <td>800</td>\n",
       "      <td>[('Rated 4.0', 'RATED\\n  Had been here for din...</td>\n",
       "      <td>[]</td>\n",
       "      <td>Buffet</td>\n",
       "      <td>Banashankari</td>\n",
       "    </tr>\n",
       "    <tr>\n",
       "      <th>San Churro Cafe</th>\n",
       "      <td>https://www.zomato.com/SanchurroBangalore?cont...</td>\n",
       "      <td>1112, Next to KIMS Medical College, 17th Cross...</td>\n",
       "      <td>Yes</td>\n",
       "      <td>No</td>\n",
       "      <td>3.8</td>\n",
       "      <td>918</td>\n",
       "      <td>+91 9663487993</td>\n",
       "      <td>Banashankari</td>\n",
       "      <td>Cafe, Casual Dining</td>\n",
       "      <td>Churros, Cannelloni, Minestrone Soup, Hot Choc...</td>\n",
       "      <td>Cafe, Mexican, Italian</td>\n",
       "      <td>800</td>\n",
       "      <td>[('Rated 3.0', \"RATED\\n  Ambience is not that ...</td>\n",
       "      <td>[]</td>\n",
       "      <td>Buffet</td>\n",
       "      <td>Banashankari</td>\n",
       "    </tr>\n",
       "    <tr>\n",
       "      <th>Addhuri Udupi Bhojana</th>\n",
       "      <td>https://www.zomato.com/bangalore/addhuri-udupi...</td>\n",
       "      <td>1st Floor, Annakuteera, 3rd Stage, Banashankar...</td>\n",
       "      <td>No</td>\n",
       "      <td>No</td>\n",
       "      <td>3.7</td>\n",
       "      <td>88</td>\n",
       "      <td>+91 9620009302</td>\n",
       "      <td>Banashankari</td>\n",
       "      <td>Quick Bites</td>\n",
       "      <td>Masala Dosa</td>\n",
       "      <td>South Indian, North Indian</td>\n",
       "      <td>300</td>\n",
       "      <td>[('Rated 4.0', \"RATED\\n  Great food and proper...</td>\n",
       "      <td>[]</td>\n",
       "      <td>Buffet</td>\n",
       "      <td>Banashankari</td>\n",
       "    </tr>\n",
       "    <tr>\n",
       "      <th>Grand Village</th>\n",
       "      <td>https://www.zomato.com/bangalore/grand-village...</td>\n",
       "      <td>10, 3rd Floor, Lakshmi Associates, Gandhi Baza...</td>\n",
       "      <td>No</td>\n",
       "      <td>No</td>\n",
       "      <td>3.8</td>\n",
       "      <td>166</td>\n",
       "      <td>+91 8026612447\\r\\n+91 9901210005</td>\n",
       "      <td>Basavanagudi</td>\n",
       "      <td>Casual Dining</td>\n",
       "      <td>Panipuri, Gol Gappe</td>\n",
       "      <td>North Indian, Rajasthani</td>\n",
       "      <td>600</td>\n",
       "      <td>[('Rated 4.0', 'RATED\\n  Very good restaurant ...</td>\n",
       "      <td>[]</td>\n",
       "      <td>Buffet</td>\n",
       "      <td>Banashankari</td>\n",
       "    </tr>\n",
       "  </tbody>\n",
       "</table>\n",
       "</div>"
      ],
      "text/plain": [
       "                                                                     url  \\\n",
       "name                                                                       \n",
       "Jalsa                  https://www.zomato.com/bangalore/jalsa-banasha...   \n",
       "Spice Elephant         https://www.zomato.com/bangalore/spice-elephan...   \n",
       "San Churro Cafe        https://www.zomato.com/SanchurroBangalore?cont...   \n",
       "Addhuri Udupi Bhojana  https://www.zomato.com/bangalore/addhuri-udupi...   \n",
       "Grand Village          https://www.zomato.com/bangalore/grand-village...   \n",
       "\n",
       "                                                                 address  \\\n",
       "name                                                                       \n",
       "Jalsa                  942, 21st Main Road, 2nd Stage, Banashankari, ...   \n",
       "Spice Elephant         2nd Floor, 80 Feet Road, Near Big Bazaar, 6th ...   \n",
       "San Churro Cafe        1112, Next to KIMS Medical College, 17th Cross...   \n",
       "Addhuri Udupi Bhojana  1st Floor, Annakuteera, 3rd Stage, Banashankar...   \n",
       "Grand Village          10, 3rd Floor, Lakshmi Associates, Gandhi Baza...   \n",
       "\n",
       "                      online_order book_table  rate  votes  \\\n",
       "name                                                         \n",
       "Jalsa                          Yes        Yes   4.1    775   \n",
       "Spice Elephant                 Yes         No   4.1    787   \n",
       "San Churro Cafe                Yes         No   3.8    918   \n",
       "Addhuri Udupi Bhojana           No         No   3.7     88   \n",
       "Grand Village                   No         No   3.8    166   \n",
       "\n",
       "                                                  phone      location  \\\n",
       "name                                                                    \n",
       "Jalsa                    080 42297555\\r\\n+91 9743772233  Banashankari   \n",
       "Spice Elephant                             080 41714161  Banashankari   \n",
       "San Churro Cafe                          +91 9663487993  Banashankari   \n",
       "Addhuri Udupi Bhojana                    +91 9620009302  Banashankari   \n",
       "Grand Village          +91 8026612447\\r\\n+91 9901210005  Basavanagudi   \n",
       "\n",
       "                                 rest_type  \\\n",
       "name                                         \n",
       "Jalsa                        Casual Dining   \n",
       "Spice Elephant               Casual Dining   \n",
       "San Churro Cafe        Cafe, Casual Dining   \n",
       "Addhuri Udupi Bhojana          Quick Bites   \n",
       "Grand Village                Casual Dining   \n",
       "\n",
       "                                                              dish_liked  \\\n",
       "name                                                                       \n",
       "Jalsa                  Pasta, Lunch Buffet, Masala Papad, Paneer Laja...   \n",
       "Spice Elephant         Momos, Lunch Buffet, Chocolate Nirvana, Thai G...   \n",
       "San Churro Cafe        Churros, Cannelloni, Minestrone Soup, Hot Choc...   \n",
       "Addhuri Udupi Bhojana                                        Masala Dosa   \n",
       "Grand Village                                        Panipuri, Gol Gappe   \n",
       "\n",
       "                                             cuisines  \\\n",
       "name                                                    \n",
       "Jalsa                  North Indian, Mughlai, Chinese   \n",
       "Spice Elephant            Chinese, North Indian, Thai   \n",
       "San Churro Cafe                Cafe, Mexican, Italian   \n",
       "Addhuri Udupi Bhojana      South Indian, North Indian   \n",
       "Grand Village                North Indian, Rajasthani   \n",
       "\n",
       "                       approx_cost(for two people)  \\\n",
       "name                                                 \n",
       "Jalsa                                          800   \n",
       "Spice Elephant                                 800   \n",
       "San Churro Cafe                                800   \n",
       "Addhuri Udupi Bhojana                          300   \n",
       "Grand Village                                  600   \n",
       "\n",
       "                                                            reviews_list  \\\n",
       "name                                                                       \n",
       "Jalsa                  [('Rated 4.0', 'RATED\\n  A beautiful place to ...   \n",
       "Spice Elephant         [('Rated 4.0', 'RATED\\n  Had been here for din...   \n",
       "San Churro Cafe        [('Rated 3.0', \"RATED\\n  Ambience is not that ...   \n",
       "Addhuri Udupi Bhojana  [('Rated 4.0', \"RATED\\n  Great food and proper...   \n",
       "Grand Village          [('Rated 4.0', 'RATED\\n  Very good restaurant ...   \n",
       "\n",
       "                      menu_item listed_in(type) listed_in(city)  \n",
       "name                                                             \n",
       "Jalsa                        []          Buffet    Banashankari  \n",
       "Spice Elephant               []          Buffet    Banashankari  \n",
       "San Churro Cafe              []          Buffet    Banashankari  \n",
       "Addhuri Udupi Bhojana        []          Buffet    Banashankari  \n",
       "Grand Village                []          Buffet    Banashankari  "
      ]
     },
     "execution_count": 71,
     "metadata": {},
     "output_type": "execute_result"
    }
   ],
   "source": [
    "data.head()"
   ]
  },
  {
   "cell_type": "markdown",
   "id": "004a6e02",
   "metadata": {},
   "source": [
    "### Top 10 Most Expensive restaurant with approx cost for 2 people"
   ]
  },
  {
   "cell_type": "code",
   "execution_count": 72,
   "id": "f5674d68",
   "metadata": {},
   "outputs": [
    {
     "data": {
      "text/plain": [
       "<AxesSubplot:xlabel='name'>"
      ]
     },
     "execution_count": 72,
     "metadata": {},
     "output_type": "execute_result"
    },
    {
     "data": {
      "image/png": "[encoded data removed]",
      "text/plain": [
       "<Figure size 432x288 with 1 Axes>"
      ]
     },
     "metadata": {},
     "output_type": "display_data"
    }
   ],
   "source": [
    "data['approx_cost(for two people)'].nlargest(10).plot.bar()"
   ]
  },
  {
   "cell_type": "markdown",
   "id": "3485b9ee",
   "metadata": {},
   "source": [
    "### Top 10 Cheapest restaurant with approx cost for 2 people\n"
   ]
  },
  {
   "cell_type": "code",
   "execution_count": 73,
   "id": "a4cc9869",
   "metadata": {},
   "outputs": [
    {
     "data": {
      "text/plain": [
       "<AxesSubplot:xlabel='name'>"
      ]
     },
     "execution_count": 73,
     "metadata": {},
     "output_type": "execute_result"
    },
    {
     "data": {
      "image/png": "[encoded data removed]",
      "text/plain": [
       "<Figure size 432x288 with 1 Axes>"
      ]
     },
     "metadata": {},
     "output_type": "display_data"
    }
   ],
   "source": [
    "data['approx_cost(for two people)'].nsmallest(10).plot.bar()"
   ]
  },
  {
   "cell_type": "markdown",
   "id": "0258de25",
   "metadata": {},
   "source": [
    "### all the restautant that are below than 500(budget hotel)"
   ]
  },
  {
   "cell_type": "code",
   "execution_count": 74,
   "id": "03db0a9c",
   "metadata": {},
   "outputs": [
    {
     "data": {
      "text/html": [
       "<div>\n",
       "<style scoped>\n",
       "    .dataframe tbody tr th:only-of-type {\n",
       "        vertical-align: middle;\n",
       "    }\n",
       "\n",
       "    .dataframe tbody tr th {\n",
       "        vertical-align: top;\n",
       "    }\n",
       "\n",
       "    .dataframe thead th {\n",
       "        text-align: right;\n",
       "    }\n",
       "</style>\n",
       "<table border=\"1\" class=\"dataframe\">\n",
       "  <thead>\n",
       "    <tr style=\"text-align: right;\">\n",
       "      <th></th>\n",
       "      <th>url</th>\n",
       "      <th>address</th>\n",
       "      <th>online_order</th>\n",
       "      <th>book_table</th>\n",
       "      <th>rate</th>\n",
       "      <th>votes</th>\n",
       "      <th>phone</th>\n",
       "      <th>location</th>\n",
       "      <th>rest_type</th>\n",
       "      <th>dish_liked</th>\n",
       "      <th>cuisines</th>\n",
       "      <th>approx_cost(for two people)</th>\n",
       "      <th>reviews_list</th>\n",
       "      <th>menu_item</th>\n",
       "      <th>listed_in(type)</th>\n",
       "      <th>listed_in(city)</th>\n",
       "    </tr>\n",
       "    <tr>\n",
       "      <th>name</th>\n",
       "      <th></th>\n",
       "      <th></th>\n",
       "      <th></th>\n",
       "      <th></th>\n",
       "      <th></th>\n",
       "      <th></th>\n",
       "      <th></th>\n",
       "      <th></th>\n",
       "      <th></th>\n",
       "      <th></th>\n",
       "      <th></th>\n",
       "      <th></th>\n",
       "      <th></th>\n",
       "      <th></th>\n",
       "      <th></th>\n",
       "      <th></th>\n",
       "    </tr>\n",
       "  </thead>\n",
       "  <tbody>\n",
       "    <tr>\n",
       "      <th>Addhuri Udupi Bhojana</th>\n",
       "      <td>https://www.zomato.com/bangalore/addhuri-udupi...</td>\n",
       "      <td>1st Floor, Annakuteera, 3rd Stage, Banashankar...</td>\n",
       "      <td>No</td>\n",
       "      <td>No</td>\n",
       "      <td>3.7</td>\n",
       "      <td>88</td>\n",
       "      <td>+91 9620009302</td>\n",
       "      <td>Banashankari</td>\n",
       "      <td>Quick Bites</td>\n",
       "      <td>Masala Dosa</td>\n",
       "      <td>South Indian, North Indian</td>\n",
       "      <td>300</td>\n",
       "      <td>[('Rated 4.0', \"RATED\\n  Great food and proper...</td>\n",
       "      <td>[]</td>\n",
       "      <td>Buffet</td>\n",
       "      <td>Banashankari</td>\n",
       "    </tr>\n",
       "    <tr>\n",
       "      <th>CafÃÂÃÂÃÂÃÂÃÂÃÂÃÂÃÂ© Down The Alley</th>\n",
       "      <td>https://www.zomato.com/bangalore/caf%C3%A9-dow...</td>\n",
       "      <td>12,29 Near PES University Back Gate, D'Souza N...</td>\n",
       "      <td>Yes</td>\n",
       "      <td>No</td>\n",
       "      <td>4.1</td>\n",
       "      <td>402</td>\n",
       "      <td>080 26724489\\r\\n+91 7406048982</td>\n",
       "      <td>Banashankari</td>\n",
       "      <td>Cafe</td>\n",
       "      <td>Waffles, Pasta, Crispy Chicken, Honey Chilli C...</td>\n",
       "      <td>Cafe</td>\n",
       "      <td>500</td>\n",
       "      <td>[('Rated 4.0', 'RATED\\n  We ended up here on a...</td>\n",
       "      <td>[]</td>\n",
       "      <td>Cafes</td>\n",
       "      <td>Banashankari</td>\n",
       "    </tr>\n",
       "    <tr>\n",
       "      <th>The Coffee Shack</th>\n",
       "      <td>https://www.zomato.com/bangalore/the-coffee-sh...</td>\n",
       "      <td>6th Block, 3rd Stage, Banashankari, Bangalore</td>\n",
       "      <td>Yes</td>\n",
       "      <td>Yes</td>\n",
       "      <td>4.2</td>\n",
       "      <td>164</td>\n",
       "      <td>+91 9731644212</td>\n",
       "      <td>Banashankari</td>\n",
       "      <td>Cafe</td>\n",
       "      <td>Coffee, Spaghetti, Pancakes, Nachos, Pasta, Sa...</td>\n",
       "      <td>Cafe, Chinese, Continental, Italian</td>\n",
       "      <td>500</td>\n",
       "      <td>[('Rated 4.0', \"RATED\\n  Food - 4/5\\nAmbience ...</td>\n",
       "      <td>[]</td>\n",
       "      <td>Cafes</td>\n",
       "      <td>Banashankari</td>\n",
       "    </tr>\n",
       "    <tr>\n",
       "      <th>Caf-Eleven</th>\n",
       "      <td>https://www.zomato.com/bangalore/caf-eleven-ba...</td>\n",
       "      <td>111, Sapphire Toys Building, 100 Feet Ring Roa...</td>\n",
       "      <td>No</td>\n",
       "      <td>No</td>\n",
       "      <td>4.0</td>\n",
       "      <td>424</td>\n",
       "      <td>080 49577715</td>\n",
       "      <td>Banashankari</td>\n",
       "      <td>Cafe</td>\n",
       "      <td>Sandwich, Omelette, Ice Tea, Virgin Mojito, Ho...</td>\n",
       "      <td>Cafe, Continental</td>\n",
       "      <td>450</td>\n",
       "      <td>[('Rated 2.0', \"RATED\\n  This is a hookah cafe...</td>\n",
       "      <td>[]</td>\n",
       "      <td>Cafes</td>\n",
       "      <td>Banashankari</td>\n",
       "    </tr>\n",
       "    <tr>\n",
       "      <th>T3H Cafe</th>\n",
       "      <td>https://www.zomato.com/bangalore/t3h-cafe-bana...</td>\n",
       "      <td>504, CJ Venkata Das Road, Padmanabhangar, 2nd ...</td>\n",
       "      <td>No</td>\n",
       "      <td>No</td>\n",
       "      <td>3.9</td>\n",
       "      <td>93</td>\n",
       "      <td>+91 8884726600</td>\n",
       "      <td>Banashankari</td>\n",
       "      <td>Cafe</td>\n",
       "      <td>Cheese Maggi, Peri Peri Fries, Pasta Arrabiata</td>\n",
       "      <td>Cafe, Italian, American</td>\n",
       "      <td>300</td>\n",
       "      <td>[('Rated 4.0', \"RATED\\n  Happy to see such a c...</td>\n",
       "      <td>[]</td>\n",
       "      <td>Cafes</td>\n",
       "      <td>Banashankari</td>\n",
       "    </tr>\n",
       "    <tr>\n",
       "      <th>...</th>\n",
       "      <td>...</td>\n",
       "      <td>...</td>\n",
       "      <td>...</td>\n",
       "      <td>...</td>\n",
       "      <td>...</td>\n",
       "      <td>...</td>\n",
       "      <td>...</td>\n",
       "      <td>...</td>\n",
       "      <td>...</td>\n",
       "      <td>...</td>\n",
       "      <td>...</td>\n",
       "      <td>...</td>\n",
       "      <td>...</td>\n",
       "      <td>...</td>\n",
       "      <td>...</td>\n",
       "      <td>...</td>\n",
       "    </tr>\n",
       "    <tr>\n",
       "      <th>Venice Kerala Restaurant</th>\n",
       "      <td>https://www.zomato.com/bangalore/venice-kerala...</td>\n",
       "      <td>Opposite Brookfield Mall, Shiva Temple Road, B...</td>\n",
       "      <td>No</td>\n",
       "      <td>No</td>\n",
       "      <td>3.7</td>\n",
       "      <td>34</td>\n",
       "      <td>+91 8880059495</td>\n",
       "      <td>Brookefield</td>\n",
       "      <td>Quick Bites</td>\n",
       "      <td>NaN</td>\n",
       "      <td>Kerala</td>\n",
       "      <td>200</td>\n",
       "      <td>[('Rated 5.0', 'RATED\\n  Loved this restaurant...</td>\n",
       "      <td>[]</td>\n",
       "      <td>Dine-out</td>\n",
       "      <td>Whitefield</td>\n",
       "    </tr>\n",
       "    <tr>\n",
       "      <th>Thai &amp; Chinese Fast Food</th>\n",
       "      <td>https://www.zomato.com/bangalore/thai-chinese-...</td>\n",
       "      <td>7, Anurhh Arcade, Hoodi Road, Kodigehalli Road...</td>\n",
       "      <td>No</td>\n",
       "      <td>No</td>\n",
       "      <td>3.4</td>\n",
       "      <td>7</td>\n",
       "      <td>+91 9206260085\\n+91 7619416923</td>\n",
       "      <td>KR Puram</td>\n",
       "      <td>Quick Bites</td>\n",
       "      <td>NaN</td>\n",
       "      <td>Chinese, Thai</td>\n",
       "      <td>400</td>\n",
       "      <td>[('Rated 5.0', 'RATED\\n  Its Looking delicious...</td>\n",
       "      <td>[]</td>\n",
       "      <td>Dine-out</td>\n",
       "      <td>Whitefield</td>\n",
       "    </tr>\n",
       "    <tr>\n",
       "      <th>The Crunch</th>\n",
       "      <td>https://www.zomato.com/bangalore/the-crunch-br...</td>\n",
       "      <td>33/1, Kundalahalli Road, Brookefield, Bangalore</td>\n",
       "      <td>No</td>\n",
       "      <td>No</td>\n",
       "      <td>3.3</td>\n",
       "      <td>6</td>\n",
       "      <td>+91 9016277963</td>\n",
       "      <td>Brookefield</td>\n",
       "      <td>Beverage Shop</td>\n",
       "      <td>NaN</td>\n",
       "      <td>Beverages</td>\n",
       "      <td>300</td>\n",
       "      <td>[('Rated 3.0', 'RATED\\n  the sandwich was not ...</td>\n",
       "      <td>[]</td>\n",
       "      <td>Dine-out</td>\n",
       "      <td>Whitefield</td>\n",
       "    </tr>\n",
       "    <tr>\n",
       "      <th>Punjabi Charchay</th>\n",
       "      <td>https://www.zomato.com/bangalore/punjabi-charc...</td>\n",
       "      <td>7, Anurhh Arcade, Hoodi Road, Kodigehalli Road...</td>\n",
       "      <td>No</td>\n",
       "      <td>No</td>\n",
       "      <td>3.6</td>\n",
       "      <td>31</td>\n",
       "      <td>+91 9341341916\\n+91 7619416499</td>\n",
       "      <td>KR Puram</td>\n",
       "      <td>Quick Bites</td>\n",
       "      <td>NaN</td>\n",
       "      <td>North Indian, Chinese</td>\n",
       "      <td>400</td>\n",
       "      <td>[('Rated 3.0', 'RATED\\n  A nice little place f...</td>\n",
       "      <td>[]</td>\n",
       "      <td>Dine-out</td>\n",
       "      <td>Whitefield</td>\n",
       "    </tr>\n",
       "    <tr>\n",
       "      <th>Raapchick</th>\n",
       "      <td>https://www.zomato.com/bangalore/raapchick-bro...</td>\n",
       "      <td>Opposite Brookefield Mall, Kundanhalli, Brooke...</td>\n",
       "      <td>Yes</td>\n",
       "      <td>No</td>\n",
       "      <td>3.6</td>\n",
       "      <td>49</td>\n",
       "      <td>080 41717785\\n+91 9571153004</td>\n",
       "      <td>Brookefield</td>\n",
       "      <td>Quick Bites</td>\n",
       "      <td>Burgers</td>\n",
       "      <td>Fast Food, Burger</td>\n",
       "      <td>300</td>\n",
       "      <td>[('Rated 5.0', \"RATED\\n  I was randomly lookin...</td>\n",
       "      <td>['Chicken Wrap', 'Veg Crunch Burger', 'Spicy P...</td>\n",
       "      <td>Dine-out</td>\n",
       "      <td>Whitefield</td>\n",
       "    </tr>\n",
       "  </tbody>\n",
       "</table>\n",
       "<p>26330 rows × 16 columns</p>\n",
       "</div>"
      ],
      "text/plain": [
       "                                                                                                  url  \\\n",
       "name                                                                                                    \n",
       "Addhuri Udupi Bhojana                               https://www.zomato.com/bangalore/addhuri-udupi...   \n",
       "CafÃÂÃÂÃÂÃÂÃÂÃÂÃÂÃÂ© Down The Alley  https://www.zomato.com/bangalore/caf%C3%A9-dow...   \n",
       "The Coffee Shack                                    https://www.zomato.com/bangalore/the-coffee-sh...   \n",
       "Caf-Eleven                                          https://www.zomato.com/bangalore/caf-eleven-ba...   \n",
       "T3H Cafe                                            https://www.zomato.com/bangalore/t3h-cafe-bana...   \n",
       "...                                                                                               ...   \n",
       "Venice Kerala Restaurant                            https://www.zomato.com/bangalore/venice-kerala...   \n",
       "Thai & Chinese Fast Food                            https://www.zomato.com/bangalore/thai-chinese-...   \n",
       "The Crunch                                          https://www.zomato.com/bangalore/the-crunch-br...   \n",
       "Punjabi Charchay                                    https://www.zomato.com/bangalore/punjabi-charc...   \n",
       "Raapchick                                           https://www.zomato.com/bangalore/raapchick-bro...   \n",
       "\n",
       "                                                                                              address  \\\n",
       "name                                                                                                    \n",
       "Addhuri Udupi Bhojana                               1st Floor, Annakuteera, 3rd Stage, Banashankar...   \n",
       "CafÃÂÃÂÃÂÃÂÃÂÃÂÃÂÃÂ© Down The Alley  12,29 Near PES University Back Gate, D'Souza N...   \n",
       "The Coffee Shack                                        6th Block, 3rd Stage, Banashankari, Bangalore   \n",
       "Caf-Eleven                                          111, Sapphire Toys Building, 100 Feet Ring Roa...   \n",
       "T3H Cafe                                            504, CJ Venkata Das Road, Padmanabhangar, 2nd ...   \n",
       "...                                                                                               ...   \n",
       "Venice Kerala Restaurant                            Opposite Brookfield Mall, Shiva Temple Road, B...   \n",
       "Thai & Chinese Fast Food                            7, Anurhh Arcade, Hoodi Road, Kodigehalli Road...   \n",
       "The Crunch                                            33/1, Kundalahalli Road, Brookefield, Bangalore   \n",
       "Punjabi Charchay                                    7, Anurhh Arcade, Hoodi Road, Kodigehalli Road...   \n",
       "Raapchick                                           Opposite Brookefield Mall, Kundanhalli, Brooke...   \n",
       "\n",
       "                                                   online_order book_table  \\\n",
       "name                                                                         \n",
       "Addhuri Udupi Bhojana                                        No         No   \n",
       "CafÃÂÃÂÃÂÃÂÃÂÃÂÃÂÃÂ© Down The Alley          Yes         No   \n",
       "The Coffee Shack                                            Yes        Yes   \n",
       "Caf-Eleven                                                   No         No   \n",
       "T3H Cafe                                                     No         No   \n",
       "...                                                         ...        ...   \n",
       "Venice Kerala Restaurant                                     No         No   \n",
       "Thai & Chinese Fast Food                                     No         No   \n",
       "The Crunch                                                   No         No   \n",
       "Punjabi Charchay                                             No         No   \n",
       "Raapchick                                                   Yes         No   \n",
       "\n",
       "                                                    rate  votes  \\\n",
       "name                                                              \n",
       "Addhuri Udupi Bhojana                                3.7     88   \n",
       "CafÃÂÃÂÃÂÃÂÃÂÃÂÃÂÃÂ© Down The Alley   4.1    402   \n",
       "The Coffee Shack                                     4.2    164   \n",
       "Caf-Eleven                                           4.0    424   \n",
       "T3H Cafe                                             3.9     93   \n",
       "...                                                  ...    ...   \n",
       "Venice Kerala Restaurant                             3.7     34   \n",
       "Thai & Chinese Fast Food                             3.4      7   \n",
       "The Crunch                                           3.3      6   \n",
       "Punjabi Charchay                                     3.6     31   \n",
       "Raapchick                                            3.6     49   \n",
       "\n",
       "                                                                             phone  \\\n",
       "name                                                                                 \n",
       "Addhuri Udupi Bhojana                                               +91 9620009302   \n",
       "CafÃÂÃÂÃÂÃÂÃÂÃÂÃÂÃÂ© Down The Alley  080 26724489\\r\\n+91 7406048982   \n",
       "The Coffee Shack                                                    +91 9731644212   \n",
       "Caf-Eleven                                                            080 49577715   \n",
       "T3H Cafe                                                            +91 8884726600   \n",
       "...                                                                            ...   \n",
       "Venice Kerala Restaurant                                            +91 8880059495   \n",
       "Thai & Chinese Fast Food                            +91 9206260085\\n+91 7619416923   \n",
       "The Crunch                                                          +91 9016277963   \n",
       "Punjabi Charchay                                    +91 9341341916\\n+91 7619416499   \n",
       "Raapchick                                             080 41717785\\n+91 9571153004   \n",
       "\n",
       "                                                        location  \\\n",
       "name                                                               \n",
       "Addhuri Udupi Bhojana                               Banashankari   \n",
       "CafÃÂÃÂÃÂÃÂÃÂÃÂÃÂÃÂ© Down The Alley  Banashankari   \n",
       "The Coffee Shack                                    Banashankari   \n",
       "Caf-Eleven                                          Banashankari   \n",
       "T3H Cafe                                            Banashankari   \n",
       "...                                                          ...   \n",
       "Venice Kerala Restaurant                             Brookefield   \n",
       "Thai & Chinese Fast Food                                KR Puram   \n",
       "The Crunch                                           Brookefield   \n",
       "Punjabi Charchay                                        KR Puram   \n",
       "Raapchick                                            Brookefield   \n",
       "\n",
       "                                                        rest_type  \\\n",
       "name                                                                \n",
       "Addhuri Udupi Bhojana                                 Quick Bites   \n",
       "CafÃÂÃÂÃÂÃÂÃÂÃÂÃÂÃÂ© Down The Alley           Cafe   \n",
       "The Coffee Shack                                             Cafe   \n",
       "Caf-Eleven                                                   Cafe   \n",
       "T3H Cafe                                                     Cafe   \n",
       "...                                                           ...   \n",
       "Venice Kerala Restaurant                              Quick Bites   \n",
       "Thai & Chinese Fast Food                              Quick Bites   \n",
       "The Crunch                                          Beverage Shop   \n",
       "Punjabi Charchay                                      Quick Bites   \n",
       "Raapchick                                             Quick Bites   \n",
       "\n",
       "                                                                                           dish_liked  \\\n",
       "name                                                                                                    \n",
       "Addhuri Udupi Bhojana                                                                     Masala Dosa   \n",
       "CafÃÂÃÂÃÂÃÂÃÂÃÂÃÂÃÂ© Down The Alley  Waffles, Pasta, Crispy Chicken, Honey Chilli C...   \n",
       "The Coffee Shack                                    Coffee, Spaghetti, Pancakes, Nachos, Pasta, Sa...   \n",
       "Caf-Eleven                                          Sandwich, Omelette, Ice Tea, Virgin Mojito, Ho...   \n",
       "T3H Cafe                                               Cheese Maggi, Peri Peri Fries, Pasta Arrabiata   \n",
       "...                                                                                               ...   \n",
       "Venice Kerala Restaurant                                                                          NaN   \n",
       "Thai & Chinese Fast Food                                                                          NaN   \n",
       "The Crunch                                                                                        NaN   \n",
       "Punjabi Charchay                                                                                  NaN   \n",
       "Raapchick                                                                                     Burgers   \n",
       "\n",
       "                                                                               cuisines  \\\n",
       "name                                                                                      \n",
       "Addhuri Udupi Bhojana                                        South Indian, North Indian   \n",
       "CafÃÂÃÂÃÂÃÂÃÂÃÂÃÂÃÂ© Down The Alley                                 Cafe   \n",
       "The Coffee Shack                                    Cafe, Chinese, Continental, Italian   \n",
       "Caf-Eleven                                                            Cafe, Continental   \n",
       "T3H Cafe                                                        Cafe, Italian, American   \n",
       "...                                                                                 ...   \n",
       "Venice Kerala Restaurant                                                         Kerala   \n",
       "Thai & Chinese Fast Food                                                  Chinese, Thai   \n",
       "The Crunch                                                                    Beverages   \n",
       "Punjabi Charchay                                                  North Indian, Chinese   \n",
       "Raapchick                                                             Fast Food, Burger   \n",
       "\n",
       "                                                    approx_cost(for two people)  \\\n",
       "name                                                                              \n",
       "Addhuri Udupi Bhojana                                                       300   \n",
       "CafÃÂÃÂÃÂÃÂÃÂÃÂÃÂÃÂ© Down The Alley                          500   \n",
       "The Coffee Shack                                                            500   \n",
       "Caf-Eleven                                                                  450   \n",
       "T3H Cafe                                                                    300   \n",
       "...                                                                         ...   \n",
       "Venice Kerala Restaurant                                                    200   \n",
       "Thai & Chinese Fast Food                                                    400   \n",
       "The Crunch                                                                  300   \n",
       "Punjabi Charchay                                                            400   \n",
       "Raapchick                                                                   300   \n",
       "\n",
       "                                                                                         reviews_list  \\\n",
       "name                                                                                                    \n",
       "Addhuri Udupi Bhojana                               [('Rated 4.0', \"RATED\\n  Great food and proper...   \n",
       "CafÃÂÃÂÃÂÃÂÃÂÃÂÃÂÃÂ© Down The Alley  [('Rated 4.0', 'RATED\\n  We ended up here on a...   \n",
       "The Coffee Shack                                    [('Rated 4.0', \"RATED\\n  Food - 4/5\\nAmbience ...   \n",
       "Caf-Eleven                                          [('Rated 2.0', \"RATED\\n  This is a hookah cafe...   \n",
       "T3H Cafe                                            [('Rated 4.0', \"RATED\\n  Happy to see such a c...   \n",
       "...                                                                                               ...   \n",
       "Venice Kerala Restaurant                            [('Rated 5.0', 'RATED\\n  Loved this restaurant...   \n",
       "Thai & Chinese Fast Food                            [('Rated 5.0', 'RATED\\n  Its Looking delicious...   \n",
       "The Crunch                                          [('Rated 3.0', 'RATED\\n  the sandwich was not ...   \n",
       "Punjabi Charchay                                    [('Rated 3.0', 'RATED\\n  A nice little place f...   \n",
       "Raapchick                                           [('Rated 5.0', \"RATED\\n  I was randomly lookin...   \n",
       "\n",
       "                                                                                            menu_item  \\\n",
       "name                                                                                                    \n",
       "Addhuri Udupi Bhojana                                                                              []   \n",
       "CafÃÂÃÂÃÂÃÂÃÂÃÂÃÂÃÂ© Down The Alley                                                 []   \n",
       "The Coffee Shack                                                                                   []   \n",
       "Caf-Eleven                                                                                         []   \n",
       "T3H Cafe                                                                                           []   \n",
       "...                                                                                               ...   \n",
       "Venice Kerala Restaurant                                                                           []   \n",
       "Thai & Chinese Fast Food                                                                           []   \n",
       "The Crunch                                                                                         []   \n",
       "Punjabi Charchay                                                                                   []   \n",
       "Raapchick                                           ['Chicken Wrap', 'Veg Crunch Burger', 'Spicy P...   \n",
       "\n",
       "                                                   listed_in(type)  \\\n",
       "name                                                                 \n",
       "Addhuri Udupi Bhojana                                       Buffet   \n",
       "CafÃÂÃÂÃÂÃÂÃÂÃÂÃÂÃÂ© Down The Alley           Cafes   \n",
       "The Coffee Shack                                             Cafes   \n",
       "Caf-Eleven                                                   Cafes   \n",
       "T3H Cafe                                                     Cafes   \n",
       "...                                                            ...   \n",
       "Venice Kerala Restaurant                                  Dine-out   \n",
       "Thai & Chinese Fast Food                                  Dine-out   \n",
       "The Crunch                                                Dine-out   \n",
       "Punjabi Charchay                                          Dine-out   \n",
       "Raapchick                                                 Dine-out   \n",
       "\n",
       "                                                   listed_in(city)  \n",
       "name                                                                \n",
       "Addhuri Udupi Bhojana                                 Banashankari  \n",
       "CafÃÂÃÂÃÂÃÂÃÂÃÂÃÂÃÂ© Down The Alley    Banashankari  \n",
       "The Coffee Shack                                      Banashankari  \n",
       "Caf-Eleven                                            Banashankari  \n",
       "T3H Cafe                                              Banashankari  \n",
       "...                                                            ...  \n",
       "Venice Kerala Restaurant                                Whitefield  \n",
       "Thai & Chinese Fast Food                                Whitefield  \n",
       "The Crunch                                              Whitefield  \n",
       "Punjabi Charchay                                        Whitefield  \n",
       "Raapchick                                               Whitefield  \n",
       "\n",
       "[26330 rows x 16 columns]"
      ]
     },
     "execution_count": 74,
     "metadata": {},
     "output_type": "execute_result"
    }
   ],
   "source": [
    "data[data['approx_cost(for two people)']<=500]"
   ]
  },
  {
   "cell_type": "code",
   "execution_count": 75,
   "id": "952c0b2e",
   "metadata": {},
   "outputs": [
    {
     "data": {
      "text/html": [
       "<div>\n",
       "<style scoped>\n",
       "    .dataframe tbody tr th:only-of-type {\n",
       "        vertical-align: middle;\n",
       "    }\n",
       "\n",
       "    .dataframe tbody tr th {\n",
       "        vertical-align: top;\n",
       "    }\n",
       "\n",
       "    .dataframe thead th {\n",
       "        text-align: right;\n",
       "    }\n",
       "</style>\n",
       "<table border=\"1\" class=\"dataframe\">\n",
       "  <thead>\n",
       "    <tr style=\"text-align: right;\">\n",
       "      <th></th>\n",
       "      <th>name</th>\n",
       "      <th>approx_cost(for two people)</th>\n",
       "    </tr>\n",
       "  </thead>\n",
       "  <tbody>\n",
       "    <tr>\n",
       "      <th>0</th>\n",
       "      <td>Addhuri Udupi Bhojana</td>\n",
       "      <td>300</td>\n",
       "    </tr>\n",
       "    <tr>\n",
       "      <th>1</th>\n",
       "      <td>CafÃÂÃÂÃÂÃÂÃÂÃÂÃÂÃÂ© Down The A...</td>\n",
       "      <td>500</td>\n",
       "    </tr>\n",
       "    <tr>\n",
       "      <th>2</th>\n",
       "      <td>The Coffee Shack</td>\n",
       "      <td>500</td>\n",
       "    </tr>\n",
       "    <tr>\n",
       "      <th>3</th>\n",
       "      <td>Caf-Eleven</td>\n",
       "      <td>450</td>\n",
       "    </tr>\n",
       "    <tr>\n",
       "      <th>4</th>\n",
       "      <td>T3H Cafe</td>\n",
       "      <td>300</td>\n",
       "    </tr>\n",
       "  </tbody>\n",
       "</table>\n",
       "</div>"
      ],
      "text/plain": [
       "                                                name  \\\n",
       "0                              Addhuri Udupi Bhojana   \n",
       "1  CafÃÂÃÂÃÂÃÂÃÂÃÂÃÂÃÂ© Down The A...   \n",
       "2                                   The Coffee Shack   \n",
       "3                                         Caf-Eleven   \n",
       "4                                           T3H Cafe   \n",
       "\n",
       "   approx_cost(for two people)  \n",
       "0                          300  \n",
       "1                          500  \n",
       "2                          500  \n",
       "3                          450  \n",
       "4                          300  "
      ]
     },
     "execution_count": 75,
     "metadata": {},
     "output_type": "execute_result"
    }
   ],
   "source": [
    "df_budget = data[data['approx_cost(for two people)']<=500].loc[:,('approx_cost(for two people)')]\n",
    "df_budget = df_budget.reset_index()\n",
    "df_budget.head()"
   ]
  },
  {
   "cell_type": "code",
   "execution_count": 76,
   "id": "faa22c05",
   "metadata": {},
   "outputs": [
    {
     "data": {
      "text/plain": [
       "<AxesSubplot:>"
      ]
     },
     "execution_count": 76,
     "metadata": {},
     "output_type": "execute_result"
    },
    {
     "data": {
      "image/png": "[encoded data removed]",
      "text/plain": [
       "<Figure size 432x288 with 1 Axes>"
      ]
     },
     "metadata": {},
     "output_type": "display_data"
    }
   ],
   "source": [
    "df_budget['approx_cost(for two people)'].value_counts().plot.bar()"
   ]
  },
  {
   "cell_type": "code",
   "execution_count": null,
   "id": "e9155da3",
   "metadata": {},
   "outputs": [],
   "source": []
  },
  {
   "cell_type": "markdown",
   "id": "4caa8e0c",
   "metadata": {},
   "source": [
    "### Restaurants that have better rating >4 and that are under budget too"
   ]
  },
  {
   "cell_type": "code",
   "execution_count": 77,
   "id": "46c6fb2a",
   "metadata": {},
   "outputs": [
    {
     "data": {
      "text/plain": [
       "(2436, 17)"
      ]
     },
     "execution_count": 77,
     "metadata": {},
     "output_type": "execute_result"
    }
   ],
   "source": [
    "df[(df['rate']>4) & (df['approx_cost(for two people)']<=500)].shape"
   ]
  },
  {
   "cell_type": "code",
   "execution_count": 78,
   "id": "9ba80cb5",
   "metadata": {},
   "outputs": [
    {
     "data": {
      "text/plain": [
       "372"
      ]
     },
     "execution_count": 78,
     "metadata": {},
     "output_type": "execute_result"
    }
   ],
   "source": [
    "len(df[(df['rate']>4) & (df['approx_cost(for two people)']<=500)]['name'].unique())"
   ]
  },
  {
   "cell_type": "code",
   "execution_count": null,
   "id": "9e1c7c32",
   "metadata": {},
   "outputs": [],
   "source": []
  },
  {
   "cell_type": "markdown",
   "id": "966351bd",
   "metadata": {},
   "source": [
    "### Total such various  affordable hotels at different location"
   ]
  },
  {
   "cell_type": "code",
   "execution_count": 79,
   "id": "5f6102e9",
   "metadata": {},
   "outputs": [
    {
     "data": {
      "text/html": [
       "<div>\n",
       "<style scoped>\n",
       "    .dataframe tbody tr th:only-of-type {\n",
       "        vertical-align: middle;\n",
       "    }\n",
       "\n",
       "    .dataframe tbody tr th {\n",
       "        vertical-align: top;\n",
       "    }\n",
       "\n",
       "    .dataframe thead th {\n",
       "        text-align: right;\n",
       "    }\n",
       "</style>\n",
       "<table border=\"1\" class=\"dataframe\">\n",
       "  <thead>\n",
       "    <tr style=\"text-align: right;\">\n",
       "      <th></th>\n",
       "      <th>url</th>\n",
       "      <th>address</th>\n",
       "      <th>name</th>\n",
       "      <th>online_order</th>\n",
       "      <th>book_table</th>\n",
       "      <th>rate</th>\n",
       "      <th>votes</th>\n",
       "      <th>phone</th>\n",
       "      <th>location</th>\n",
       "      <th>rest_type</th>\n",
       "      <th>dish_liked</th>\n",
       "      <th>cuisines</th>\n",
       "      <th>approx_cost(for two people)</th>\n",
       "      <th>reviews_list</th>\n",
       "      <th>menu_item</th>\n",
       "      <th>listed_in(type)</th>\n",
       "      <th>listed_in(city)</th>\n",
       "    </tr>\n",
       "  </thead>\n",
       "  <tbody>\n",
       "    <tr>\n",
       "      <th>10</th>\n",
       "      <td>https://www.zomato.com/bangalore/caf%C3%A9-dow...</td>\n",
       "      <td>12,29 Near PES University Back Gate, D'Souza N...</td>\n",
       "      <td>CafÃÂÃÂÃÂÃÂÃÂÃÂÃÂÃÂ© Down The A...</td>\n",
       "      <td>Yes</td>\n",
       "      <td>No</td>\n",
       "      <td>4.1</td>\n",
       "      <td>402</td>\n",
       "      <td>080 26724489\\r\\n+91 7406048982</td>\n",
       "      <td>Banashankari</td>\n",
       "      <td>Cafe</td>\n",
       "      <td>Waffles, Pasta, Crispy Chicken, Honey Chilli C...</td>\n",
       "      <td>Cafe</td>\n",
       "      <td>500</td>\n",
       "      <td>[('Rated 4.0', 'RATED\\n  We ended up here on a...</td>\n",
       "      <td>[]</td>\n",
       "      <td>Cafes</td>\n",
       "      <td>Banashankari</td>\n",
       "    </tr>\n",
       "    <tr>\n",
       "      <th>12</th>\n",
       "      <td>https://www.zomato.com/bangalore/the-coffee-sh...</td>\n",
       "      <td>6th Block, 3rd Stage, Banashankari, Bangalore</td>\n",
       "      <td>The Coffee Shack</td>\n",
       "      <td>Yes</td>\n",
       "      <td>Yes</td>\n",
       "      <td>4.2</td>\n",
       "      <td>164</td>\n",
       "      <td>+91 9731644212</td>\n",
       "      <td>Banashankari</td>\n",
       "      <td>Cafe</td>\n",
       "      <td>Coffee, Spaghetti, Pancakes, Nachos, Pasta, Sa...</td>\n",
       "      <td>Cafe, Chinese, Continental, Italian</td>\n",
       "      <td>500</td>\n",
       "      <td>[('Rated 4.0', \"RATED\\n  Food - 4/5\\nAmbience ...</td>\n",
       "      <td>[]</td>\n",
       "      <td>Cafes</td>\n",
       "      <td>Banashankari</td>\n",
       "    </tr>\n",
       "    <tr>\n",
       "      <th>34</th>\n",
       "      <td>https://www.zomato.com/bangalore/faasos-banash...</td>\n",
       "      <td>80, BDA Complex, 2nd Stage, Banashankari, Bang...</td>\n",
       "      <td>Faasos</td>\n",
       "      <td>Yes</td>\n",
       "      <td>No</td>\n",
       "      <td>4.2</td>\n",
       "      <td>415</td>\n",
       "      <td>+91 7700020020</td>\n",
       "      <td>Banashankari</td>\n",
       "      <td>Quick Bites</td>\n",
       "      <td>Rolls, Veggie Wrap, Chocolate Fantasy, Rice Bo...</td>\n",
       "      <td>North Indian, Biryani, Fast Food</td>\n",
       "      <td>500</td>\n",
       "      <td>[('Rated 3.0', 'RATED\\n  Not worth for the mon...</td>\n",
       "      <td>['Chole Kulcha Meal', 'Upvas Aloo Paratha With...</td>\n",
       "      <td>Delivery</td>\n",
       "      <td>Banashankari</td>\n",
       "    </tr>\n",
       "    <tr>\n",
       "      <th>51</th>\n",
       "      <td>https://www.zomato.com/bangalore/shree-cool-po...</td>\n",
       "      <td>1514, 4th Cross, 7th Main, RPC layout, 2nd Sta...</td>\n",
       "      <td>Shree Cool Point</td>\n",
       "      <td>Yes</td>\n",
       "      <td>No</td>\n",
       "      <td>4.1</td>\n",
       "      <td>28</td>\n",
       "      <td>+91 9900617124</td>\n",
       "      <td>Vijay Nagar</td>\n",
       "      <td>Quick Bites</td>\n",
       "      <td>NaN</td>\n",
       "      <td>Fast Food, Street Food, Beverages</td>\n",
       "      <td>150</td>\n",
       "      <td>[('Rated 5.0', 'RATED\\n  Who would say no to s...</td>\n",
       "      <td>['Vegetable Sandwich', 'Vegetable Sandwich wit...</td>\n",
       "      <td>Delivery</td>\n",
       "      <td>Banashankari</td>\n",
       "    </tr>\n",
       "    <tr>\n",
       "      <th>52</th>\n",
       "      <td>https://www.zomato.com/bangalore/corner-house-...</td>\n",
       "      <td>808/6-1, 24th A Cross, K.R Road, 2nd Stage, Ba...</td>\n",
       "      <td>Corner House Ice Cream</td>\n",
       "      <td>No</td>\n",
       "      <td>No</td>\n",
       "      <td>4.3</td>\n",
       "      <td>345</td>\n",
       "      <td>080 26713965\\r\\n+91 9845444155</td>\n",
       "      <td>Banashankari</td>\n",
       "      <td>Dessert Parlor</td>\n",
       "      <td>Hot Chocolate Fudge, Vanilla Ice Cream, Fudge ...</td>\n",
       "      <td>Ice Cream, Desserts</td>\n",
       "      <td>400</td>\n",
       "      <td>[('Rated 3.0', \"RATED\\n  Always a fan of corne...</td>\n",
       "      <td>[]</td>\n",
       "      <td>Delivery</td>\n",
       "      <td>Banashankari</td>\n",
       "    </tr>\n",
       "  </tbody>\n",
       "</table>\n",
       "</div>"
      ],
      "text/plain": [
       "                                                  url  \\\n",
       "10  https://www.zomato.com/bangalore/caf%C3%A9-dow...   \n",
       "12  https://www.zomato.com/bangalore/the-coffee-sh...   \n",
       "34  https://www.zomato.com/bangalore/faasos-banash...   \n",
       "51  https://www.zomato.com/bangalore/shree-cool-po...   \n",
       "52  https://www.zomato.com/bangalore/corner-house-...   \n",
       "\n",
       "                                              address  \\\n",
       "10  12,29 Near PES University Back Gate, D'Souza N...   \n",
       "12      6th Block, 3rd Stage, Banashankari, Bangalore   \n",
       "34  80, BDA Complex, 2nd Stage, Banashankari, Bang...   \n",
       "51  1514, 4th Cross, 7th Main, RPC layout, 2nd Sta...   \n",
       "52  808/6-1, 24th A Cross, K.R Road, 2nd Stage, Ba...   \n",
       "\n",
       "                                                 name online_order book_table  \\\n",
       "10  CafÃÂÃÂÃÂÃÂÃÂÃÂÃÂÃÂ© Down The A...          Yes         No   \n",
       "12                                   The Coffee Shack          Yes        Yes   \n",
       "34                                             Faasos          Yes         No   \n",
       "51                                   Shree Cool Point          Yes         No   \n",
       "52                             Corner House Ice Cream           No         No   \n",
       "\n",
       "    rate  votes                           phone      location       rest_type  \\\n",
       "10   4.1    402  080 26724489\\r\\n+91 7406048982  Banashankari            Cafe   \n",
       "12   4.2    164                  +91 9731644212  Banashankari            Cafe   \n",
       "34   4.2    415                  +91 7700020020  Banashankari     Quick Bites   \n",
       "51   4.1     28                  +91 9900617124   Vijay Nagar     Quick Bites   \n",
       "52   4.3    345  080 26713965\\r\\n+91 9845444155  Banashankari  Dessert Parlor   \n",
       "\n",
       "                                           dish_liked  \\\n",
       "10  Waffles, Pasta, Crispy Chicken, Honey Chilli C...   \n",
       "12  Coffee, Spaghetti, Pancakes, Nachos, Pasta, Sa...   \n",
       "34  Rolls, Veggie Wrap, Chocolate Fantasy, Rice Bo...   \n",
       "51                                                NaN   \n",
       "52  Hot Chocolate Fudge, Vanilla Ice Cream, Fudge ...   \n",
       "\n",
       "                               cuisines  approx_cost(for two people)  \\\n",
       "10                                 Cafe                          500   \n",
       "12  Cafe, Chinese, Continental, Italian                          500   \n",
       "34     North Indian, Biryani, Fast Food                          500   \n",
       "51    Fast Food, Street Food, Beverages                          150   \n",
       "52                  Ice Cream, Desserts                          400   \n",
       "\n",
       "                                         reviews_list  \\\n",
       "10  [('Rated 4.0', 'RATED\\n  We ended up here on a...   \n",
       "12  [('Rated 4.0', \"RATED\\n  Food - 4/5\\nAmbience ...   \n",
       "34  [('Rated 3.0', 'RATED\\n  Not worth for the mon...   \n",
       "51  [('Rated 5.0', 'RATED\\n  Who would say no to s...   \n",
       "52  [('Rated 3.0', \"RATED\\n  Always a fan of corne...   \n",
       "\n",
       "                                            menu_item listed_in(type)  \\\n",
       "10                                                 []           Cafes   \n",
       "12                                                 []           Cafes   \n",
       "34  ['Chole Kulcha Meal', 'Upvas Aloo Paratha With...        Delivery   \n",
       "51  ['Vegetable Sandwich', 'Vegetable Sandwich wit...        Delivery   \n",
       "52                                                 []        Delivery   \n",
       "\n",
       "   listed_in(city)  \n",
       "10    Banashankari  \n",
       "12    Banashankari  \n",
       "34    Banashankari  \n",
       "51    Banashankari  \n",
       "52    Banashankari  "
      ]
     },
     "execution_count": 79,
     "metadata": {},
     "output_type": "execute_result"
    }
   ],
   "source": [
    "df_new = df[(df['rate']>4) & (df['approx_cost(for two people)']<=500)]\n",
    "df_new.head()\n"
   ]
  },
  {
   "cell_type": "markdown",
   "id": "e08eec73",
   "metadata": {},
   "source": [
    "### To Visualise what are the names of those hotels"
   ]
  },
  {
   "cell_type": "code",
   "execution_count": 80,
   "id": "7a190ff3",
   "metadata": {},
   "outputs": [],
   "source": [
    "location = []\n",
    "total = []\n",
    "\n",
    "\n",
    "for loc,location_df in df_new.groupby('location'):\n",
    "    location.append(loc)\n",
    "    total.append(len(location_df['name'].unique()))"
   ]
  },
  {
   "cell_type": "code",
   "execution_count": 86,
   "id": "2a012193",
   "metadata": {},
   "outputs": [
    {
     "data": {
      "text/html": [
       "<div>\n",
       "<style scoped>\n",
       "    .dataframe tbody tr th:only-of-type {\n",
       "        vertical-align: middle;\n",
       "    }\n",
       "\n",
       "    .dataframe tbody tr th {\n",
       "        vertical-align: top;\n",
       "    }\n",
       "\n",
       "    .dataframe thead th {\n",
       "        text-align: right;\n",
       "    }\n",
       "</style>\n",
       "<table border=\"1\" class=\"dataframe\">\n",
       "  <thead>\n",
       "    <tr style=\"text-align: right;\">\n",
       "      <th></th>\n",
       "      <th>0</th>\n",
       "      <th>1</th>\n",
       "    </tr>\n",
       "  </thead>\n",
       "  <tbody>\n",
       "    <tr>\n",
       "      <th>0</th>\n",
       "      <td>BTM</td>\n",
       "      <td>28</td>\n",
       "    </tr>\n",
       "    <tr>\n",
       "      <th>1</th>\n",
       "      <td>Banashankari</td>\n",
       "      <td>16</td>\n",
       "    </tr>\n",
       "    <tr>\n",
       "      <th>2</th>\n",
       "      <td>Banaswadi</td>\n",
       "      <td>1</td>\n",
       "    </tr>\n",
       "    <tr>\n",
       "      <th>3</th>\n",
       "      <td>Bannerghatta Road</td>\n",
       "      <td>9</td>\n",
       "    </tr>\n",
       "    <tr>\n",
       "      <th>4</th>\n",
       "      <td>Basavanagudi</td>\n",
       "      <td>24</td>\n",
       "    </tr>\n",
       "  </tbody>\n",
       "</table>\n",
       "</div>"
      ],
      "text/plain": [
       "                   0   1\n",
       "0                BTM  28\n",
       "1       Banashankari  16\n",
       "2          Banaswadi   1\n",
       "3  Bannerghatta Road   9\n",
       "4       Basavanagudi  24"
      ]
     },
     "execution_count": 86,
     "metadata": {},
     "output_type": "execute_result"
    }
   ],
   "source": [
    "location_df = pd.DataFrame(zip(location,total))\n",
    "location_df.head()"
   ]
  },
  {
   "cell_type": "code",
   "execution_count": 82,
   "id": "9fb29d71",
   "metadata": {},
   "outputs": [],
   "source": [
    "location_df.columns = ['location','restaurant']"
   ]
  },
  {
   "cell_type": "code",
   "execution_count": 83,
   "id": "f0f5ee3d",
   "metadata": {},
   "outputs": [
    {
     "data": {
      "text/html": [
       "<div>\n",
       "<style scoped>\n",
       "    .dataframe tbody tr th:only-of-type {\n",
       "        vertical-align: middle;\n",
       "    }\n",
       "\n",
       "    .dataframe tbody tr th {\n",
       "        vertical-align: top;\n",
       "    }\n",
       "\n",
       "    .dataframe thead th {\n",
       "        text-align: right;\n",
       "    }\n",
       "</style>\n",
       "<table border=\"1\" class=\"dataframe\">\n",
       "  <thead>\n",
       "    <tr style=\"text-align: right;\">\n",
       "      <th></th>\n",
       "      <th>location</th>\n",
       "      <th>restaurant</th>\n",
       "    </tr>\n",
       "  </thead>\n",
       "  <tbody>\n",
       "    <tr>\n",
       "      <th>0</th>\n",
       "      <td>BTM</td>\n",
       "      <td>28</td>\n",
       "    </tr>\n",
       "    <tr>\n",
       "      <th>1</th>\n",
       "      <td>Banashankari</td>\n",
       "      <td>16</td>\n",
       "    </tr>\n",
       "    <tr>\n",
       "      <th>2</th>\n",
       "      <td>Banaswadi</td>\n",
       "      <td>1</td>\n",
       "    </tr>\n",
       "    <tr>\n",
       "      <th>3</th>\n",
       "      <td>Bannerghatta Road</td>\n",
       "      <td>9</td>\n",
       "    </tr>\n",
       "    <tr>\n",
       "      <th>4</th>\n",
       "      <td>Basavanagudi</td>\n",
       "      <td>24</td>\n",
       "    </tr>\n",
       "  </tbody>\n",
       "</table>\n",
       "</div>"
      ],
      "text/plain": [
       "            location  restaurant\n",
       "0                BTM          28\n",
       "1       Banashankari          16\n",
       "2          Banaswadi           1\n",
       "3  Bannerghatta Road           9\n",
       "4       Basavanagudi          24"
      ]
     },
     "execution_count": 83,
     "metadata": {},
     "output_type": "execute_result"
    }
   ],
   "source": [
    "location_df.head()"
   ]
  },
  {
   "cell_type": "markdown",
   "id": "7d043187",
   "metadata": {},
   "source": [
    "### Finding Best budget Restaurants in any location"
   ]
  },
  {
   "cell_type": "code",
   "execution_count": 84,
   "id": "001535b6",
   "metadata": {},
   "outputs": [],
   "source": [
    "def return_budget(location,restaurant):\n",
    "    budget=df[(df['approx_cost(for two people)']<=400)&(df['location']==location)&(df['rate']>4)&(df['rest_type']==restaurant)]\n",
    "    return (budget['name'].unique())"
   ]
  },
  {
   "cell_type": "code",
   "execution_count": 85,
   "id": "fe5c43a4",
   "metadata": {},
   "outputs": [
    {
     "data": {
      "text/plain": [
       "array(['Swadista Aahar', 'Litti Twist', 'The Shawarma Shop', 'Gorbandh',\n",
       "       'Yum In My Tum', 'Chaatimes', \"Muthashy's\", 'Swad Punjab Da',\n",
       "       \"Domino's Pizza\", 'Roti Wala', 'Andhra Kitchen'], dtype=object)"
      ]
     },
     "execution_count": 85,
     "metadata": {},
     "output_type": "execute_result"
    }
   ],
   "source": [
    "return_budget('BTM','Quick Bites')"
   ]
  },
  {
   "cell_type": "markdown",
   "id": "0628974e",
   "metadata": {},
   "source": [
    "### Finding Foodie area "
   ]
  },
  {
   "cell_type": "code",
   "execution_count": 87,
   "id": "3bec2168",
   "metadata": {},
   "outputs": [
    {
     "data": {
      "text/plain": [
       "<AxesSubplot:xlabel='location'>"
      ]
     },
     "execution_count": 87,
     "metadata": {},
     "output_type": "execute_result"
    },
    {
     "data": {
      "image/png": "[encoded data removed]",
      "text/plain": [
       "<Figure size 432x288 with 1 Axes>"
      ]
     },
     "metadata": {},
     "output_type": "display_data"
    }
   ],
   "source": [
    "restautrant_location = df['location'].value_counts()[0:20]\n",
    "sns.barplot(restautrant_location,restautrant_location.index)"
   ]
  },
  {
   "cell_type": "markdown",
   "id": "2663edb8",
   "metadata": {},
   "source": [
    "#### We can see that BTM,HSR and Koranmangala 5th block has the most number of restaurants.\n",
    "#### BTM dominates the section by having more than 5000 restaurants."
   ]
  },
  {
   "cell_type": "code",
   "execution_count": null,
   "id": "a2f5695f",
   "metadata": {},
   "outputs": [],
   "source": []
  }
 ],
 "metadata": {
  "kernelspec": {
   "display_name": "Python 3 (ipykernel)",
   "language": "python",
   "name": "python3"
  },
  "language_info": {
   "codemirror_mode": {
    "name": "ipython",
    "version": 3
   },
   "file_extension": ".py",
   "mimetype": "text/x-python",
   "name": "python",
   "nbconvert_exporter": "python",
   "pygments_lexer": "ipython3",
   "version": "3.9.12"
  }
 },
 "nbformat": 4,
 "nbformat_minor": 5
}
